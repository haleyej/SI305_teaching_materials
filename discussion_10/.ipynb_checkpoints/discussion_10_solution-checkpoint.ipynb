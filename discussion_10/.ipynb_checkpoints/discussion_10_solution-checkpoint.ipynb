{
 "cells": [
  {
   "cell_type": "markdown",
   "id": "bffcb934-ee26-4b90-9eff-9e309b34fe2a",
   "metadata": {},
   "source": [
    "<h1>SI 305 Discussion 10: Statistical Analysis</h1>\n",
    "\n",
    "This week we'll be covering statistical analysis in Python. There are lots of packages you can use to analyze relationships in your data. In this discussion we'll focus on <a href = \"https://www.statsmodels.org/stable/index.html\">statsmodel.</a> Another useful package that we won't cover today is <a href = \"https://scikit-learn.org/stable/\">sklearn.</a> \n",
    "\n",
    "We'll be using the waste water scan data. This data measures the amount of COVID-19, influenza and other viruses in wastewater. For more details see the <a href = \"https://docs.google.com/document/d/1vmTYziZxRMxANLVG0ly1c4-3scamvvXEkpsISZ_dF3E/edit\">data dictionary.</a> "
   ]
  },
  {
   "cell_type": "code",
   "execution_count": 1,
   "id": "1b337e81-5671-4fb7-b359-c0998b46fbe9",
   "metadata": {},
   "outputs": [],
   "source": [
    "import pandas as pd\n",
    "import matplotlib.pyplot as plt\n",
    "import statsmodels.api as sm\n",
    "\n",
    "from statsmodels.formula.api import ols"
   ]
  },
  {
   "cell_type": "code",
   "execution_count": 2,
   "id": "2fe342a4-5b1f-4981-a138-12e41c26f3e7",
   "metadata": {},
   "outputs": [],
   "source": [
    "df = pd.read_csv(\"https://docs.google.com/spreadsheets/d/1kQ6oEeNNntgQ0V2rv21_osuMO9Xr_ni6but7tVtrYjw/gviz/tq?tqx=out:csv\")"
   ]
  },
  {
   "cell_type": "code",
   "execution_count": 3,
   "id": "9bffecf2-9965-4590-bdae-baa36a33015f",
   "metadata": {},
   "outputs": [],
   "source": [
    "df['collection_date'] = pd.to_datetime(df['collection_date'])\n",
    "df['collection_month'] = df['collection_date'].dt.month"
   ]
  },
  {
   "cell_type": "code",
   "execution_count": 4,
   "id": "7e36bf2e-d32f-4b12-b35a-ee5a114ceec0",
   "metadata": {},
   "outputs": [],
   "source": [
    "def assign_month(s):\n",
    "    if s < 3 or s == 12:\n",
    "        return 'winter'\n",
    "    elif s <= 5:\n",
    "        return 'spring'\n",
    "    elif s <= 8:\n",
    "        return 'summer'\n",
    "    else:\n",
    "        return 'fall'\n",
    "\n",
    "df['season'] = df['collection_month'].apply(assign_month)"
   ]
  },
  {
   "cell_type": "markdown",
   "id": "f2aced81-820a-4381-a313-3237f395ee55",
   "metadata": {},
   "source": [
    "<h2>Live Coding Example: Do we detect higher levels of COVID-19 in certain seasons?</h2>"
   ]
  },
  {
   "cell_type": "markdown",
   "id": "a2242f27-8126-4899-86ef-33a4d0bf7567",
   "metadata": {},
   "source": [
    "We went ahead and created a new variable called `season` for you. For the sake of this excersize, we'll assume \n",
    "\n",
    "* Winter = December, January, February\n",
    "* Spring = March, April, May\n",
    "* Summer = June, July, August\n",
    "* Fall = September, October, November"
   ]
  },
  {
   "cell_type": "markdown",
   "id": "2cc6fcab-d2ae-4c5a-9b3c-fe957833f6b5",
   "metadata": {},
   "source": [
    "<h3>1.A: Create a plot that shows the relationship between COVID-19 and season</h3>\n",
    "Before we go through the effort of doing a full statistical analysis, it can be helpful to plot our data to see if there's any relationship. Let's create a plot that shows the relationship between COVID-19 and season.\n",
    "\n",
    "There are a few different ways COVID-19 levels are measured in this dataset. We'll use the variable `N_Gene_gc_g_dry_weight`"
   ]
  },
  {
   "cell_type": "code",
   "execution_count": 5,
   "id": "8d89fa4d-6c9a-436b-b461-f8306c01d33c",
   "metadata": {},
   "outputs": [
    {
     "data": {
      "text/plain": [
       "<BarContainer object of 4 artists>"
      ]
     },
     "execution_count": 5,
     "metadata": {},
     "output_type": "execute_result"
    },
    {
     "data": {
      "image/png": "[encoded data removed]",
      "text/plain": [
       "<Figure size 640x480 with 1 Axes>"
      ]
     },
     "metadata": {},
     "output_type": "display_data"
    }
   ],
   "source": [
    "avg_height = df.groupby('season')['N_Gene_gc_g_dry_weight'].mean()\n",
    "avg_height = avg_height.reset_index()\n",
    "\n",
    "plt.bar(height = avg_height['N_Gene_gc_g_dry_weight'], x = avg_height['season'])"
   ]
  },
  {
   "cell_type": "markdown",
   "id": "0d2e5370-60b3-47a0-b1fd-8fe19e297a33",
   "metadata": {},
   "source": [
    "<h3>1.B Analysis of Variance</h3>\n",
    "\n",
    "We are interested in how each individual season impacts COVID-19 levels. This means a type 2 anova is most appropriate. For a refresher on what type of ANOVA to use, see <a href = \"https://md.psych.bio.uni-goettingen.de/mv/unit/lm_cat/lm_cat_unbal_ss_explained.html\">this page</a>"
   ]
  },
  {
   "cell_type": "code",
   "execution_count": 38,
   "id": "cae41ad8-f442-452e-be15-4f3312bbe5a9",
   "metadata": {},
   "outputs": [],
   "source": [
    "season_ols = ols('N_Gene_gc_g_dry_weight ~ C(season)', data = df).fit()"
   ]
  },
  {
   "cell_type": "code",
   "execution_count": 39,
   "id": "fa926747-b611-4364-b055-aae677b39207",
   "metadata": {},
   "outputs": [
    {
     "data": {
      "text/html": [
       "<div>\n",
       "<style scoped>\n",
       "    .dataframe tbody tr th:only-of-type {\n",
       "        vertical-align: middle;\n",
       "    }\n",
       "\n",
       "    .dataframe tbody tr th {\n",
       "        vertical-align: top;\n",
       "    }\n",
       "\n",
       "    .dataframe thead th {\n",
       "        text-align: right;\n",
       "    }\n",
       "</style>\n",
       "<table border=\"1\" class=\"dataframe\">\n",
       "  <thead>\n",
       "    <tr style=\"text-align: right;\">\n",
       "      <th></th>\n",
       "      <th>sum_sq</th>\n",
       "      <th>df</th>\n",
       "      <th>F</th>\n",
       "      <th>PR(&gt;F)</th>\n",
       "    </tr>\n",
       "  </thead>\n",
       "  <tbody>\n",
       "    <tr>\n",
       "      <th>C(season)</th>\n",
       "      <td>1.569946e+12</td>\n",
       "      <td>3.0</td>\n",
       "      <td>4.098888</td>\n",
       "      <td>0.007534</td>\n",
       "    </tr>\n",
       "    <tr>\n",
       "      <th>Residual</th>\n",
       "      <td>2.502382e+13</td>\n",
       "      <td>196.0</td>\n",
       "      <td>NaN</td>\n",
       "      <td>NaN</td>\n",
       "    </tr>\n",
       "  </tbody>\n",
       "</table>\n",
       "</div>"
      ],
      "text/plain": [
       "                 sum_sq     df         F    PR(>F)\n",
       "C(season)  1.569946e+12    3.0  4.098888  0.007534\n",
       "Residual   2.502382e+13  196.0       NaN       NaN"
      ]
     },
     "execution_count": 39,
     "metadata": {},
     "output_type": "execute_result"
    }
   ],
   "source": [
    "sm.stats.anova_lm(season_ols, typ=2)"
   ]
  },
  {
   "cell_type": "markdown",
   "id": "a19ce1af-0a57-49ba-ad6d-2b9591ec031c",
   "metadata": {},
   "source": [
    "<h3>1.C Interpretation</h3>\n",
    "\n",
    "One of the most important parts of doing statistical analysis is interpretting your results *in the context of the problem.* Let's write 1-2 sentences explaining what these results mean."
   ]
  },
  {
   "cell_type": "markdown",
   "id": "fc5f8875-728f-45ae-96f5-419e18ed6db6",
   "metadata": {},
   "source": [
    "**Bad:** \n",
    "\n",
    "There is a relationship between season and COVID-19 levels \n",
    "\n",
    "**Better:**\n",
    "\n",
    "There is a statistically significant relationship between season and COVID-19 levels in wastewater\n",
    "\n",
    "**Even better:**\n",
    "\n",
    "There is a statistically significant difference between the mean amount of COVID-19 detected in wastewater in each season"
   ]
  },
  {
   "cell_type": "markdown",
   "id": "f687807d-fa0f-4328-a17c-6368202768b7",
   "metadata": {},
   "source": [
    "<h2>Question 1: What is the relationship between COVID-19 levels and influenza levels?</h2>\n",
    "\n",
    "Use the column `Influenza_A_gc_g_dry_weight` to measure influenza levels"
   ]
  },
  {
   "cell_type": "markdown",
   "id": "481bdf73-c446-4580-b25b-375c2ebbc1ce",
   "metadata": {},
   "source": [
    "<h3>1.A: Create a plot that shows the relationship between COVID-19 and influenza</h3>"
   ]
  },
  {
   "cell_type": "code",
   "execution_count": 8,
   "id": "52dc8860-8a22-4f70-a3ae-d12e46221403",
   "metadata": {},
   "outputs": [
    {
     "data": {
      "text/plain": [
       "Text(0, 0.5, 'COVID-19 Level')"
      ]
     },
     "execution_count": 8,
     "metadata": {},
     "output_type": "execute_result"
    },
    {
     "data": {
      "image/png": "[encoded data removed]",
      "text/plain": [
       "<Figure size 640x480 with 1 Axes>"
      ]
     },
     "metadata": {},
     "output_type": "display_data"
    }
   ],
   "source": [
    "plt.scatter(df['Influenza_A_gc_g_dry_weight'], df['N_Gene_gc_g_dry_weight'])\n",
    "plt.xlabel(\"Influenza Level\")\n",
    "plt.ylabel(\"COVID-19 Level\")"
   ]
  },
  {
   "cell_type": "markdown",
   "id": "41157dc2-0058-43ab-a268-6c1f27022c63",
   "metadata": {},
   "source": [
    "<h3>1.B: Calculate the correlation between these two variables</h3>"
   ]
  },
  {
   "cell_type": "code",
   "execution_count": 9,
   "id": "92494b89-b668-4d85-b6b5-21a7e13dfcf6",
   "metadata": {},
   "outputs": [
    {
     "data": {
      "text/html": [
       "<div>\n",
       "<style scoped>\n",
       "    .dataframe tbody tr th:only-of-type {\n",
       "        vertical-align: middle;\n",
       "    }\n",
       "\n",
       "    .dataframe tbody tr th {\n",
       "        vertical-align: top;\n",
       "    }\n",
       "\n",
       "    .dataframe thead th {\n",
       "        text-align: right;\n",
       "    }\n",
       "</style>\n",
       "<table border=\"1\" class=\"dataframe\">\n",
       "  <thead>\n",
       "    <tr style=\"text-align: right;\">\n",
       "      <th></th>\n",
       "      <th>Influenza_A_gc_g_dry_weight</th>\n",
       "      <th>N_Gene_gc_g_dry_weight</th>\n",
       "    </tr>\n",
       "  </thead>\n",
       "  <tbody>\n",
       "    <tr>\n",
       "      <th>Influenza_A_gc_g_dry_weight</th>\n",
       "      <td>1.000000</td>\n",
       "      <td>0.389812</td>\n",
       "    </tr>\n",
       "    <tr>\n",
       "      <th>N_Gene_gc_g_dry_weight</th>\n",
       "      <td>0.389812</td>\n",
       "      <td>1.000000</td>\n",
       "    </tr>\n",
       "  </tbody>\n",
       "</table>\n",
       "</div>"
      ],
      "text/plain": [
       "                             Influenza_A_gc_g_dry_weight  \\\n",
       "Influenza_A_gc_g_dry_weight                     1.000000   \n",
       "N_Gene_gc_g_dry_weight                          0.389812   \n",
       "\n",
       "                             N_Gene_gc_g_dry_weight  \n",
       "Influenza_A_gc_g_dry_weight                0.389812  \n",
       "N_Gene_gc_g_dry_weight                     1.000000  "
      ]
     },
     "execution_count": 9,
     "metadata": {},
     "output_type": "execute_result"
    }
   ],
   "source": [
    "df[['Influenza_A_gc_g_dry_weight', 'N_Gene_gc_g_dry_weight']].corr()"
   ]
  },
  {
   "cell_type": "markdown",
   "id": "8ca1c14c-ce6f-497e-9940-7f940a7fb1eb",
   "metadata": {},
   "source": [
    "<h3>1.C: Interpret in context</h3>"
   ]
  },
  {
   "cell_type": "markdown",
   "id": "f3f9271a-9661-40cc-94d6-3e7aa6bb476a",
   "metadata": {},
   "source": [
    "There is a positive, linear relationship between influenza levels and COVID-19 levels in wastewater. The correlation coefficent is 0.3898. When COVID-19 levels increase, we would also expect to see influenza levels increase too and vice versa. "
   ]
  },
  {
   "attachments": {},
   "cell_type": "markdown",
   "id": "3d74c36c-b79a-499a-9515-50a8340c2a96",
   "metadata": {},
   "source": [
    "<h3>1.D: Linear Regression</h3>\n",
    "\n",
    "Let's predict influenza levels based on COVID-19 levels and the season"
   ]
  },
  {
   "cell_type": "code",
   "execution_count": 32,
   "id": "fdccf0c0-cf98-4c0f-815d-dfdbbbfbd63d",
   "metadata": {},
   "outputs": [],
   "source": [
    "model = ols('Influenza_A_gc_g_dry_weight ~ N_Gene_gc_g_dry_weight + C(season)', data = df)\n",
    "result = model.fit()"
   ]
  },
  {
   "cell_type": "code",
   "execution_count": 33,
   "id": "a40a911c-03b8-41d0-bc1a-68b8fd7490dd",
   "metadata": {},
   "outputs": [
    {
     "data": {
      "text/html": [
       "<table class=\"simpletable\">\n",
       "<caption>OLS Regression Results</caption>\n",
       "<tr>\n",
       "  <th>Dep. Variable:</th>    <td>Influenza_A_gc_g_dry_weight</td> <th>  R-squared:         </th> <td>   0.384</td>\n",
       "</tr>\n",
       "<tr>\n",
       "  <th>Model:</th>                        <td>OLS</td>             <th>  Adj. R-squared:    </th> <td>   0.372</td>\n",
       "</tr>\n",
       "<tr>\n",
       "  <th>Method:</th>                  <td>Least Squares</td>        <th>  F-statistic:       </th> <td>   30.43</td>\n",
       "</tr>\n",
       "<tr>\n",
       "  <th>Date:</th>                  <td>Sun, 29 Oct 2023</td>       <th>  Prob (F-statistic):</th> <td>1.12e-19</td>\n",
       "</tr>\n",
       "<tr>\n",
       "  <th>Time:</th>                      <td>22:17:34</td>           <th>  Log-Likelihood:    </th> <td> -2357.1</td>\n",
       "</tr>\n",
       "<tr>\n",
       "  <th>No. Observations:</th>           <td>   200</td>            <th>  AIC:               </th> <td>   4724.</td>\n",
       "</tr>\n",
       "<tr>\n",
       "  <th>Df Residuals:</th>               <td>   195</td>            <th>  BIC:               </th> <td>   4741.</td>\n",
       "</tr>\n",
       "<tr>\n",
       "  <th>Df Model:</th>                   <td>     4</td>            <th>                     </th>     <td> </td>   \n",
       "</tr>\n",
       "<tr>\n",
       "  <th>Covariance Type:</th>           <td>nonrobust</td>          <th>                     </th>     <td> </td>   \n",
       "</tr>\n",
       "</table>\n",
       "<table class=\"simpletable\">\n",
       "<tr>\n",
       "             <td></td>               <th>coef</th>     <th>std err</th>      <th>t</th>      <th>P>|t|</th>  <th>[0.025</th>    <th>0.975]</th>  \n",
       "</tr>\n",
       "<tr>\n",
       "  <th>Intercept</th>              <td>-5778.0839</td> <td> 5010.213</td> <td>   -1.153</td> <td> 0.250</td> <td>-1.57e+04</td> <td> 4103.079</td>\n",
       "</tr>\n",
       "<tr>\n",
       "  <th>C(season)[T.spring]</th>    <td>-3330.0325</td> <td> 6870.529</td> <td>   -0.485</td> <td> 0.628</td> <td>-1.69e+04</td> <td> 1.02e+04</td>\n",
       "</tr>\n",
       "<tr>\n",
       "  <th>C(season)[T.summer]</th>    <td>-2511.3224</td> <td> 5855.376</td> <td>   -0.429</td> <td> 0.668</td> <td>-1.41e+04</td> <td> 9036.675</td>\n",
       "</tr>\n",
       "<tr>\n",
       "  <th>C(season)[T.winter]</th>    <td> 4.849e+04</td> <td> 6697.611</td> <td>    7.240</td> <td> 0.000</td> <td> 3.53e+04</td> <td> 6.17e+04</td>\n",
       "</tr>\n",
       "<tr>\n",
       "  <th>N_Gene_gc_g_dry_weight</th> <td>    0.0350</td> <td>    0.006</td> <td>    5.435</td> <td> 0.000</td> <td>    0.022</td> <td>    0.048</td>\n",
       "</tr>\n",
       "</table>\n",
       "<table class=\"simpletable\">\n",
       "<tr>\n",
       "  <th>Omnibus:</th>       <td>121.153</td> <th>  Durbin-Watson:     </th> <td>   0.841</td> \n",
       "</tr>\n",
       "<tr>\n",
       "  <th>Prob(Omnibus):</th> <td> 0.000</td>  <th>  Jarque-Bera (JB):  </th> <td> 871.220</td> \n",
       "</tr>\n",
       "<tr>\n",
       "  <th>Skew:</th>          <td> 2.267</td>  <th>  Prob(JB):          </th> <td>6.56e-190</td>\n",
       "</tr>\n",
       "<tr>\n",
       "  <th>Kurtosis:</th>      <td>12.165</td>  <th>  Cond. No.          </th> <td>2.15e+06</td> \n",
       "</tr>\n",
       "</table><br/><br/>Notes:<br/>[1] Standard Errors assume that the covariance matrix of the errors is correctly specified.<br/>[2] The condition number is large, 2.15e+06. This might indicate that there are<br/>strong multicollinearity or other numerical problems."
      ],
      "text/latex": [
       "\\begin{center}\n",
       "\\begin{tabular}{lclc}\n",
       "\\toprule\n",
       "\\textbf{Dep. Variable:}              & Influenza\\_A\\_gc\\_g\\_dry\\_weight & \\textbf{  R-squared:         } &     0.384   \\\\\n",
       "\\textbf{Model:}                      &               OLS                & \\textbf{  Adj. R-squared:    } &     0.372   \\\\\n",
       "\\textbf{Method:}                     &          Least Squares           & \\textbf{  F-statistic:       } &     30.43   \\\\\n",
       "\\textbf{Date:}                       &         Sun, 29 Oct 2023         & \\textbf{  Prob (F-statistic):} &  1.12e-19   \\\\\n",
       "\\textbf{Time:}                       &             22:17:34             & \\textbf{  Log-Likelihood:    } &   -2357.1   \\\\\n",
       "\\textbf{No. Observations:}           &                 200              & \\textbf{  AIC:               } &     4724.   \\\\\n",
       "\\textbf{Df Residuals:}               &                 195              & \\textbf{  BIC:               } &     4741.   \\\\\n",
       "\\textbf{Df Model:}                   &                   4              & \\textbf{                     } &             \\\\\n",
       "\\textbf{Covariance Type:}            &            nonrobust             & \\textbf{                     } &             \\\\\n",
       "\\bottomrule\n",
       "\\end{tabular}\n",
       "\\begin{tabular}{lcccccc}\n",
       "                                     & \\textbf{coef} & \\textbf{std err} & \\textbf{t} & \\textbf{P$> |$t$|$} & \\textbf{[0.025} & \\textbf{0.975]}  \\\\\n",
       "\\midrule\n",
       "\\textbf{Intercept}                   &   -5778.0839  &     5010.213     &    -1.153  &         0.250        &    -1.57e+04    &     4103.079     \\\\\n",
       "\\textbf{C(season)[T.spring]}         &   -3330.0325  &     6870.529     &    -0.485  &         0.628        &    -1.69e+04    &     1.02e+04     \\\\\n",
       "\\textbf{C(season)[T.summer]}         &   -2511.3224  &     5855.376     &    -0.429  &         0.668        &    -1.41e+04    &     9036.675     \\\\\n",
       "\\textbf{C(season)[T.winter]}         &    4.849e+04  &     6697.611     &     7.240  &         0.000        &     3.53e+04    &     6.17e+04     \\\\\n",
       "\\textbf{N\\_Gene\\_gc\\_g\\_dry\\_weight} &       0.0350  &        0.006     &     5.435  &         0.000        &        0.022    &        0.048     \\\\\n",
       "\\bottomrule\n",
       "\\end{tabular}\n",
       "\\begin{tabular}{lclc}\n",
       "\\textbf{Omnibus:}       & 121.153 & \\textbf{  Durbin-Watson:     } &     0.841  \\\\\n",
       "\\textbf{Prob(Omnibus):} &   0.000 & \\textbf{  Jarque-Bera (JB):  } &   871.220  \\\\\n",
       "\\textbf{Skew:}          &   2.267 & \\textbf{  Prob(JB):          } & 6.56e-190  \\\\\n",
       "\\textbf{Kurtosis:}      &  12.165 & \\textbf{  Cond. No.          } &  2.15e+06  \\\\\n",
       "\\bottomrule\n",
       "\\end{tabular}\n",
       "%\\caption{OLS Regression Results}\n",
       "\\end{center}\n",
       "\n",
       "Notes: \\newline\n",
       " [1] Standard Errors assume that the covariance matrix of the errors is correctly specified. \\newline\n",
       " [2] The condition number is large, 2.15e+06. This might indicate that there are \\newline\n",
       " strong multicollinearity or other numerical problems."
      ],
      "text/plain": [
       "<class 'statsmodels.iolib.summary.Summary'>\n",
       "\"\"\"\n",
       "                                 OLS Regression Results                                \n",
       "=======================================================================================\n",
       "Dep. Variable:     Influenza_A_gc_g_dry_weight   R-squared:                       0.384\n",
       "Model:                                     OLS   Adj. R-squared:                  0.372\n",
       "Method:                          Least Squares   F-statistic:                     30.43\n",
       "Date:                         Sun, 29 Oct 2023   Prob (F-statistic):           1.12e-19\n",
       "Time:                                 22:17:34   Log-Likelihood:                -2357.1\n",
       "No. Observations:                          200   AIC:                             4724.\n",
       "Df Residuals:                              195   BIC:                             4741.\n",
       "Df Model:                                    4                                         \n",
       "Covariance Type:                     nonrobust                                         \n",
       "==========================================================================================\n",
       "                             coef    std err          t      P>|t|      [0.025      0.975]\n",
       "------------------------------------------------------------------------------------------\n",
       "Intercept              -5778.0839   5010.213     -1.153      0.250   -1.57e+04    4103.079\n",
       "C(season)[T.spring]    -3330.0325   6870.529     -0.485      0.628   -1.69e+04    1.02e+04\n",
       "C(season)[T.summer]    -2511.3224   5855.376     -0.429      0.668   -1.41e+04    9036.675\n",
       "C(season)[T.winter]     4.849e+04   6697.611      7.240      0.000    3.53e+04    6.17e+04\n",
       "N_Gene_gc_g_dry_weight     0.0350      0.006      5.435      0.000       0.022       0.048\n",
       "==============================================================================\n",
       "Omnibus:                      121.153   Durbin-Watson:                   0.841\n",
       "Prob(Omnibus):                  0.000   Jarque-Bera (JB):              871.220\n",
       "Skew:                           2.267   Prob(JB):                    6.56e-190\n",
       "Kurtosis:                      12.165   Cond. No.                     2.15e+06\n",
       "==============================================================================\n",
       "\n",
       "Notes:\n",
       "[1] Standard Errors assume that the covariance matrix of the errors is correctly specified.\n",
       "[2] The condition number is large, 2.15e+06. This might indicate that there are\n",
       "strong multicollinearity or other numerical problems.\n",
       "\"\"\""
      ]
     },
     "execution_count": 33,
     "metadata": {},
     "output_type": "execute_result"
    }
   ],
   "source": [
    "result.summary()"
   ]
  },
  {
   "cell_type": "code",
   "execution_count": 12,
   "id": "3faa4b9a-460d-4f09-bdc5-e211c9c6f4c4",
   "metadata": {},
   "outputs": [
    {
     "data": {
      "text/plain": [
       "Intercept                -1.153261\n",
       "season[T.spring]         -0.484684\n",
       "season[T.summer]         -0.428892\n",
       "season[T.winter]          7.239810\n",
       "N_Gene_gc_g_dry_weight    5.435119\n",
       "dtype: float64"
      ]
     },
     "execution_count": 12,
     "metadata": {},
     "output_type": "execute_result"
    }
   ],
   "source": [
    "result.tvalues"
   ]
  },
  {
   "cell_type": "code",
   "execution_count": 13,
   "id": "98d05c58-8488-4a22-a08d-5a981efcca5b",
   "metadata": {},
   "outputs": [
    {
     "data": {
      "text/plain": [
       "Intercept                 -5778.083864\n",
       "season[T.spring]          -3330.032536\n",
       "season[T.summer]          -2511.322366\n",
       "season[T.winter]          48489.427669\n",
       "N_Gene_gc_g_dry_weight        0.034972\n",
       "dtype: float64"
      ]
     },
     "execution_count": 13,
     "metadata": {},
     "output_type": "execute_result"
    }
   ],
   "source": [
    "result.params"
   ]
  },
  {
   "cell_type": "markdown",
   "id": "ff8a65e9-da8c-449f-b4e2-d27e3156f155",
   "metadata": {},
   "source": [
    "<h3>1.E: Interpret in context</h3>\n",
    "\n",
    "There are lots of interesting results from our linear regression! You don't have to interpret everything, but here are some things to pay attention to when reading your regression results:\n",
    "\n",
    "* <a href = \"https://people.duke.edu/~rnau/rsquared.htm\">R-squared</a>\n",
    "* <a href = \"https://stats.oarc.ucla.edu/spss/library/spss-libraryunderstanding-and-interpreting-parameter-estimates-in-regression-and-anova/\">Parameter estimates and their p-value</a>\n",
    "* <a href = \"https://stats.oarc.ucla.edu/stata/output/regression-analysis/\">F statistic</a>"
   ]
  },
  {
   "cell_type": "markdown",
   "id": "4abd354c-71eb-45d9-8289-a7f726ffa7cb",
   "metadata": {},
   "source": [
    "38.4% of the variation in influenza levels is explained by its linear relationship with COVID-19 levels and the season.\n",
    "\n",
    "Of the four predictor we use (COVID-19 levels, spring, summer, winter), only COVID-19 levels and winter are statistically significant."
   ]
  },
  {
   "cell_type": "markdown",
   "id": "0745e627-efe5-49c8-8d8f-fae7bb418937",
   "metadata": {},
   "source": [
    "<h2>Bonus Question</h2>\n",
    "This is a bonus question for you to attempt individually. This can only help your grade, so try your best! Make sure to submit your completed notebook to Vocareum. \n",
    "\n",
    "\n",
    "Create a linear regression model that predicts `Noro_G2_gc_g_dry_weight` based on `Influenza_A_gc_g_dry_weight`, the year the sample was collected and the `dilution` field. Save your fitted model to the variable `bonus_model`"
   ]
  },
  {
   "cell_type": "code",
   "execution_count": 34,
   "id": "a94bf93a-5ea9-4b20-8e4f-34264647671d",
   "metadata": {},
   "outputs": [],
   "source": [
    "df['year'] = df.collection_date.dt.year\n",
    "\n",
    "reg = ols('Noro_G2_gc_g_dry_weight ~ Influenza_A_gc_g_dry_weight + C(year) + dilution', data = df)\n",
    "bonus_model = reg.fit()"
   ]
  },
  {
   "cell_type": "code",
   "execution_count": 35,
   "id": "8399bbc5-be1d-4a43-a3d3-d0bfeaacb896",
   "metadata": {},
   "outputs": [
    {
     "data": {
      "text/html": [
       "<table class=\"simpletable\">\n",
       "<caption>OLS Regression Results</caption>\n",
       "<tr>\n",
       "  <th>Dep. Variable:</th>    <td>Noro_G2_gc_g_dry_weight</td> <th>  R-squared:         </th> <td>   0.045</td>\n",
       "</tr>\n",
       "<tr>\n",
       "  <th>Model:</th>                      <td>OLS</td>           <th>  Adj. R-squared:    </th> <td>   0.030</td>\n",
       "</tr>\n",
       "<tr>\n",
       "  <th>Method:</th>                <td>Least Squares</td>      <th>  F-statistic:       </th> <td>   2.937</td>\n",
       "</tr>\n",
       "<tr>\n",
       "  <th>Date:</th>                <td>Sun, 29 Oct 2023</td>     <th>  Prob (F-statistic):</th>  <td>0.0567</td> \n",
       "</tr>\n",
       "<tr>\n",
       "  <th>Time:</th>                    <td>22:17:43</td>         <th>  Log-Likelihood:    </th> <td> -2325.6</td>\n",
       "</tr>\n",
       "<tr>\n",
       "  <th>No. Observations:</th>         <td>   128</td>          <th>  AIC:               </th> <td>   4657.</td>\n",
       "</tr>\n",
       "<tr>\n",
       "  <th>Df Residuals:</th>             <td>   125</td>          <th>  BIC:               </th> <td>   4666.</td>\n",
       "</tr>\n",
       "<tr>\n",
       "  <th>Df Model:</th>                 <td>     2</td>          <th>                     </th>     <td> </td>   \n",
       "</tr>\n",
       "<tr>\n",
       "  <th>Covariance Type:</th>         <td>nonrobust</td>        <th>                     </th>     <td> </td>   \n",
       "</tr>\n",
       "</table>\n",
       "<table class=\"simpletable\">\n",
       "<tr>\n",
       "               <td></td>                  <th>coef</th>     <th>std err</th>      <th>t</th>      <th>P>|t|</th>  <th>[0.025</th>    <th>0.975]</th>  \n",
       "</tr>\n",
       "<tr>\n",
       "  <th>Intercept</th>                   <td>-3.432e+06</td> <td> 7.21e+06</td> <td>   -0.476</td> <td> 0.635</td> <td>-1.77e+07</td> <td> 1.08e+07</td>\n",
       "</tr>\n",
       "<tr>\n",
       "  <th>C(year)[T.2023]</th>             <td> 2.034e+07</td> <td> 1.42e+07</td> <td>    1.428</td> <td> 0.156</td> <td>-7.84e+06</td> <td> 4.85e+07</td>\n",
       "</tr>\n",
       "<tr>\n",
       "  <th>Influenza_A_gc_g_dry_weight</th> <td>  171.4937</td> <td>   77.868</td> <td>    2.202</td> <td> 0.029</td> <td>   17.384</td> <td>  325.604</td>\n",
       "</tr>\n",
       "<tr>\n",
       "  <th>dilution</th>                    <td>-3.432e+06</td> <td> 7.21e+06</td> <td>   -0.476</td> <td> 0.635</td> <td>-1.77e+07</td> <td> 1.08e+07</td>\n",
       "</tr>\n",
       "</table>\n",
       "<table class=\"simpletable\">\n",
       "<tr>\n",
       "  <th>Omnibus:</th>       <td>124.295</td> <th>  Durbin-Watson:     </th> <td>   0.874</td>\n",
       "</tr>\n",
       "<tr>\n",
       "  <th>Prob(Omnibus):</th> <td> 0.000</td>  <th>  Jarque-Bera (JB):  </th> <td>1851.235</td>\n",
       "</tr>\n",
       "<tr>\n",
       "  <th>Skew:</th>          <td> 3.387</td>  <th>  Prob(JB):          </th> <td>    0.00</td>\n",
       "</tr>\n",
       "<tr>\n",
       "  <th>Kurtosis:</th>      <td>20.356</td>  <th>  Cond. No.          </th> <td>3.15e+20</td>\n",
       "</tr>\n",
       "</table><br/><br/>Notes:<br/>[1] Standard Errors assume that the covariance matrix of the errors is correctly specified.<br/>[2] The smallest eigenvalue is 2.78e-30. This might indicate that there are<br/>strong multicollinearity problems or that the design matrix is singular."
      ],
      "text/latex": [
       "\\begin{center}\n",
       "\\begin{tabular}{lclc}\n",
       "\\toprule\n",
       "\\textbf{Dep. Variable:}                   & Noro\\_G2\\_gc\\_g\\_dry\\_weight & \\textbf{  R-squared:         } &     0.045   \\\\\n",
       "\\textbf{Model:}                           &             OLS              & \\textbf{  Adj. R-squared:    } &     0.030   \\\\\n",
       "\\textbf{Method:}                          &        Least Squares         & \\textbf{  F-statistic:       } &     2.937   \\\\\n",
       "\\textbf{Date:}                            &       Sun, 29 Oct 2023       & \\textbf{  Prob (F-statistic):} &   0.0567    \\\\\n",
       "\\textbf{Time:}                            &           22:17:43           & \\textbf{  Log-Likelihood:    } &   -2325.6   \\\\\n",
       "\\textbf{No. Observations:}                &               128            & \\textbf{  AIC:               } &     4657.   \\\\\n",
       "\\textbf{Df Residuals:}                    &               125            & \\textbf{  BIC:               } &     4666.   \\\\\n",
       "\\textbf{Df Model:}                        &                 2            & \\textbf{                     } &             \\\\\n",
       "\\textbf{Covariance Type:}                 &          nonrobust           & \\textbf{                     } &             \\\\\n",
       "\\bottomrule\n",
       "\\end{tabular}\n",
       "\\begin{tabular}{lcccccc}\n",
       "                                          & \\textbf{coef} & \\textbf{std err} & \\textbf{t} & \\textbf{P$> |$t$|$} & \\textbf{[0.025} & \\textbf{0.975]}  \\\\\n",
       "\\midrule\n",
       "\\textbf{Intercept}                        &   -3.432e+06  &     7.21e+06     &    -0.476  &         0.635        &    -1.77e+07    &     1.08e+07     \\\\\n",
       "\\textbf{C(year)[T.2023]}                  &    2.034e+07  &     1.42e+07     &     1.428  &         0.156        &    -7.84e+06    &     4.85e+07     \\\\\n",
       "\\textbf{Influenza\\_A\\_gc\\_g\\_dry\\_weight} &     171.4937  &       77.868     &     2.202  &         0.029        &       17.384    &      325.604     \\\\\n",
       "\\textbf{dilution}                         &   -3.432e+06  &     7.21e+06     &    -0.476  &         0.635        &    -1.77e+07    &     1.08e+07     \\\\\n",
       "\\bottomrule\n",
       "\\end{tabular}\n",
       "\\begin{tabular}{lclc}\n",
       "\\textbf{Omnibus:}       & 124.295 & \\textbf{  Durbin-Watson:     } &    0.874  \\\\\n",
       "\\textbf{Prob(Omnibus):} &   0.000 & \\textbf{  Jarque-Bera (JB):  } & 1851.235  \\\\\n",
       "\\textbf{Skew:}          &   3.387 & \\textbf{  Prob(JB):          } &     0.00  \\\\\n",
       "\\textbf{Kurtosis:}      &  20.356 & \\textbf{  Cond. No.          } & 3.15e+20  \\\\\n",
       "\\bottomrule\n",
       "\\end{tabular}\n",
       "%\\caption{OLS Regression Results}\n",
       "\\end{center}\n",
       "\n",
       "Notes: \\newline\n",
       " [1] Standard Errors assume that the covariance matrix of the errors is correctly specified. \\newline\n",
       " [2] The smallest eigenvalue is 2.78e-30. This might indicate that there are \\newline\n",
       " strong multicollinearity problems or that the design matrix is singular."
      ],
      "text/plain": [
       "<class 'statsmodels.iolib.summary.Summary'>\n",
       "\"\"\"\n",
       "                               OLS Regression Results                              \n",
       "===================================================================================\n",
       "Dep. Variable:     Noro_G2_gc_g_dry_weight   R-squared:                       0.045\n",
       "Model:                                 OLS   Adj. R-squared:                  0.030\n",
       "Method:                      Least Squares   F-statistic:                     2.937\n",
       "Date:                     Sun, 29 Oct 2023   Prob (F-statistic):             0.0567\n",
       "Time:                             22:17:43   Log-Likelihood:                -2325.6\n",
       "No. Observations:                      128   AIC:                             4657.\n",
       "Df Residuals:                          125   BIC:                             4666.\n",
       "Df Model:                                2                                         \n",
       "Covariance Type:                 nonrobust                                         \n",
       "===============================================================================================\n",
       "                                  coef    std err          t      P>|t|      [0.025      0.975]\n",
       "-----------------------------------------------------------------------------------------------\n",
       "Intercept                   -3.432e+06   7.21e+06     -0.476      0.635   -1.77e+07    1.08e+07\n",
       "C(year)[T.2023]              2.034e+07   1.42e+07      1.428      0.156   -7.84e+06    4.85e+07\n",
       "Influenza_A_gc_g_dry_weight   171.4937     77.868      2.202      0.029      17.384     325.604\n",
       "dilution                    -3.432e+06   7.21e+06     -0.476      0.635   -1.77e+07    1.08e+07\n",
       "==============================================================================\n",
       "Omnibus:                      124.295   Durbin-Watson:                   0.874\n",
       "Prob(Omnibus):                  0.000   Jarque-Bera (JB):             1851.235\n",
       "Skew:                           3.387   Prob(JB):                         0.00\n",
       "Kurtosis:                      20.356   Cond. No.                     3.15e+20\n",
       "==============================================================================\n",
       "\n",
       "Notes:\n",
       "[1] Standard Errors assume that the covariance matrix of the errors is correctly specified.\n",
       "[2] The smallest eigenvalue is 2.78e-30. This might indicate that there are\n",
       "strong multicollinearity problems or that the design matrix is singular.\n",
       "\"\"\""
      ]
     },
     "execution_count": 35,
     "metadata": {},
     "output_type": "execute_result"
    }
   ],
   "source": [
    "bonus_model.summary()"
   ]
  },
  {
   "cell_type": "code",
   "execution_count": null,
   "id": "3e223ac2-16c6-4f85-812d-057a701bf23f",
   "metadata": {},
   "outputs": [],
   "source": []
  }
 ],
 "metadata": {
  "kernelspec": {
   "display_name": "Python 3 (ipykernel)",
   "language": "python",
   "name": "python3"
  },
  "language_info": {
   "codemirror_mode": {
    "name": "ipython",
    "version": 3
   },
   "file_extension": ".py",
   "mimetype": "text/x-python",
   "name": "python",
   "nbconvert_exporter": "python",
   "pygments_lexer": "ipython3",
   "version": "3.11.6"
  }
 },
 "nbformat": 4,
 "nbformat_minor": 5
}
