{
 "cells": [
  {
   "cell_type": "markdown",
   "id": "bffcb934-ee26-4b90-9eff-9e309b34fe2a",
   "metadata": {},
   "source": [
    "<h1>SI 305 Discussion 10: Statistical Analysis</h1>\n",
    "\n",
    "This week we'll be covering statistical analysis in Python. There are lots of packages you can use to analyze relationships in your data. In this discussion we'll focus on <a href = \"https://www.statsmodels.org/stable/index.html\">statsmodel.</a> Another useful package that we won't cover today is <a href = \"https://scikit-learn.org/stable/\">sklearn.</a> \n",
    "\n",
    "We'll be using the waste water scan data. This data measures the amount of COVID-19, influenza and other viruses in wastewater. For more details see the <a href = \"https://docs.google.com/document/d/1vmTYziZxRMxANLVG0ly1c4-3scamvvXEkpsISZ_dF3E/edit\">data dictionary.</a> "
   ]
  },
  {
   "cell_type": "code",
   "execution_count": null,
   "id": "1b337e81-5671-4fb7-b359-c0998b46fbe9",
   "metadata": {},
   "outputs": [],
   "source": [
    "import pandas as pd\n",
    "import matplotlib.pyplot as plt\n",
    "import statsmodels.api as sm\n",
    "\n",
    "from statsmodels.formula.api import ols"
   ]
  },
  {
   "cell_type": "code",
   "execution_count": null,
   "id": "2fe342a4-5b1f-4981-a138-12e41c26f3e7",
   "metadata": {},
   "outputs": [],
   "source": [
    "df = pd.read_csv(\"https://docs.google.com/spreadsheets/d/1kQ6oEeNNntgQ0V2rv21_osuMO9Xr_ni6but7tVtrYjw/gviz/tq?tqx=out:csv\")"
   ]
  },
  {
   "cell_type": "code",
   "execution_count": null,
   "id": "9bffecf2-9965-4590-bdae-baa36a33015f",
   "metadata": {},
   "outputs": [],
   "source": [
    "df['collection_date'] = pd.to_datetime(df['collection_date'])\n",
    "df['collection_month'] = df['collection_date'].dt.month"
   ]
  },
  {
   "cell_type": "code",
   "execution_count": null,
   "id": "7e36bf2e-d32f-4b12-b35a-ee5a114ceec0",
   "metadata": {},
   "outputs": [],
   "source": [
    "def assign_month(s):\n",
    "    if s < 3 or s == 12:\n",
    "        return 'winter'\n",
    "    elif s <= 5:\n",
    "        return 'spring'\n",
    "    elif s <= 8:\n",
    "        return 'summer'\n",
    "    else:\n",
    "        return 'fall'\n",
    "\n",
    "df['season'] = df['collection_month'].apply(assign_month)"
   ]
  },
  {
   "cell_type": "code",
   "execution_count": null,
   "id": "e8485a24-5ec3-4e01-9478-473ff2f5bf6a",
   "metadata": {},
   "outputs": [],
   "source": [
    "df.head()"
   ]
  },
  {
   "cell_type": "markdown",
   "id": "f2aced81-820a-4381-a313-3237f395ee55",
   "metadata": {},
   "source": [
    "<h2>Live Coding Example: Do we detect higher levels of COVID-19 in certain seasons?</h2>"
   ]
  },
  {
   "cell_type": "markdown",
   "id": "a2242f27-8126-4899-86ef-33a4d0bf7567",
   "metadata": {},
   "source": [
    "We went ahead and created a new variable called `season` for you. For the sake of this excersize, we'll assume \n",
    "\n",
    "* Winter = December, January, February\n",
    "* Spring = March, April, May\n",
    "* Summer = June, July, August\n",
    "* Fall = September, October, November"
   ]
  },
  {
   "cell_type": "markdown",
   "id": "2cc6fcab-d2ae-4c5a-9b3c-fe957833f6b5",
   "metadata": {},
   "source": [
    "<h3>1.A: Create a plot that shows the relationship between COVID-19 and season</h3>\n",
    "Before we go through the effort of doing a full statistical analysis, it can be helpful to plot our data to see if there's any relationship. Let's create a plot that shows the relationship between COVID-19 and season.\n",
    "\n",
    "There are a few different ways COVID-19 levels are measured in this dataset. We'll use the variable `N_Gene_gc_g_dry_weight`"
   ]
  },
  {
   "cell_type": "code",
   "execution_count": null,
   "id": "8d89fa4d-6c9a-436b-b461-f8306c01d33c",
   "metadata": {},
   "outputs": [],
   "source": []
  },
  {
   "cell_type": "markdown",
   "id": "0d2e5370-60b3-47a0-b1fd-8fe19e297a33",
   "metadata": {},
   "source": [
    "<h3>1.B Analysis of Variance</h3>\n",
    "\n",
    "We are interested in how each individual season impacts COVID-19 levels. This means a type 2 anova is most appropriate. For a refresher on what type of ANOVA to use, see <a href = \"https://md.psych.bio.uni-goettingen.de/mv/unit/lm_cat/lm_cat_unbal_ss_explained.html\">this page</a>"
   ]
  },
  {
   "cell_type": "code",
   "execution_count": null,
   "id": "fa926747-b611-4364-b055-aae677b39207",
   "metadata": {},
   "outputs": [],
   "source": []
  },
  {
   "cell_type": "markdown",
   "id": "a19ce1af-0a57-49ba-ad6d-2b9591ec031c",
   "metadata": {},
   "source": [
    "<h3>1.C Interpretation</h3>\n",
    "\n",
    "One of the most important parts of doing statistical analysis is interpretting your results *in the context of the problem.* Let's write 1-2 sentences explaining what these results mean."
   ]
  },
  {
   "cell_type": "markdown",
   "id": "fc5f8875-728f-45ae-96f5-419e18ed6db6",
   "metadata": {},
   "source": [
    "you answer here"
   ]
  },
  {
   "cell_type": "markdown",
   "id": "f687807d-fa0f-4328-a17c-6368202768b7",
   "metadata": {},
   "source": [
    "<h2>Question 1: What is the relationship between COVID-19 levels and influenza levels?</h2>\n",
    "\n",
    "Use the column `Influenza_A_gc_g_dry_weight` to measure influenza levels"
   ]
  },
  {
   "cell_type": "markdown",
   "id": "481bdf73-c446-4580-b25b-375c2ebbc1ce",
   "metadata": {},
   "source": [
    "<h3>1.A: Create a plot that shows the relationship between COVID-19 and influenza</h3>"
   ]
  },
  {
   "cell_type": "code",
   "execution_count": null,
   "id": "52dc8860-8a22-4f70-a3ae-d12e46221403",
   "metadata": {},
   "outputs": [],
   "source": []
  },
  {
   "cell_type": "markdown",
   "id": "41157dc2-0058-43ab-a268-6c1f27022c63",
   "metadata": {},
   "source": [
    "<h3>1.B: Calculate the correlation between these two variables</h3>"
   ]
  },
  {
   "cell_type": "code",
   "execution_count": null,
   "id": "92494b89-b668-4d85-b6b5-21a7e13dfcf6",
   "metadata": {},
   "outputs": [],
   "source": []
  },
  {
   "cell_type": "markdown",
   "id": "8ca1c14c-ce6f-497e-9940-7f940a7fb1eb",
   "metadata": {},
   "source": [
    "<h3>1.C: Interpret in context</h3>"
   ]
  },
  {
   "cell_type": "markdown",
   "id": "f3f9271a-9661-40cc-94d6-3e7aa6bb476a",
   "metadata": {},
   "source": [
    "Your answer here"
   ]
  },
  {
   "attachments": {},
   "cell_type": "markdown",
   "id": "3d74c36c-b79a-499a-9515-50a8340c2a96",
   "metadata": {},
   "source": [
    "<h3>1.D: Linear Regression</h3>\n",
    "\n",
    "Let's predict influenza levels based on COVID-19 levels and the season"
   ]
  },
  {
   "cell_type": "code",
   "execution_count": null,
   "id": "fdccf0c0-cf98-4c0f-815d-dfdbbbfbd63d",
   "metadata": {},
   "outputs": [],
   "source": []
  },
  {
   "cell_type": "code",
   "execution_count": null,
   "id": "a40a911c-03b8-41d0-bc1a-68b8fd7490dd",
   "metadata": {},
   "outputs": [],
   "source": []
  },
  {
   "cell_type": "markdown",
   "id": "ff8a65e9-da8c-449f-b4e2-d27e3156f155",
   "metadata": {},
   "source": [
    "<h3>1.E: Interpret in context</h3>\n",
    "\n",
    "There are lots of interesting results from our linear regression! You don't have to interpret everything, but here are some things to pay attention to when reading your regression results:\n",
    "\n",
    "* <a href = \"https://people.duke.edu/~rnau/rsquared.htm\">R-squared</a>\n",
    "* <a href = \"https://stats.oarc.ucla.edu/spss/library/spss-libraryunderstanding-and-interpreting-parameter-estimates-in-regression-and-anova/\">Parameter estimates and their p-value</a>\n",
    "* <a href = \"https://stats.oarc.ucla.edu/stata/output/regression-analysis/\">F statistic</a>"
   ]
  },
  {
   "cell_type": "markdown",
   "id": "4abd354c-71eb-45d9-8289-a7f726ffa7cb",
   "metadata": {},
   "source": []
  },
  {
   "cell_type": "markdown",
   "id": "5e083b33-802a-4c8f-beb7-1ecb97858d9d",
   "metadata": {},
   "source": [
    "<h2>Bonus Question</h2>\n",
    "This is a bonus question for you to attempt individually. This can only help your grade, so try your best! Make sure to submit your completed notebook to Vocareum. \n",
    "\n",
    "Create a linear regression model that predicts `Noro_G2_gc_g_dry_weight` based on `Influenza_A_gc_g_dry_weight`, the year the sample was collected and the `dilution` field. Save your fitted model to the variable `bonus_model`"
   ]
  }
 ],
 "metadata": {
  "kernelspec": {
   "display_name": "Python 3 (ipykernel)",
   "language": "python",
   "name": "python3"
  },
  "language_info": {
   "codemirror_mode": {
    "name": "ipython",
    "version": 3
   },
   "file_extension": ".py",
   "mimetype": "text/x-python",
   "name": "python",
   "nbconvert_exporter": "python",
   "pygments_lexer": "ipython3",
   "version": "3.11.6"
  }
 },
 "nbformat": 4,
 "nbformat_minor": 5
}
