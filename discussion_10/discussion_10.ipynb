{
 "cells": [
  {
   "cell_type": "markdown",
   "id": "bffcb934-ee26-4b90-9eff-9e309b34fe2a",
   "metadata": {},
   "source": [
    "<h1>SI 305 Discussion 10: Statistical Analysis</h1>\n",
    "\n",
    "This week we'll be covering statistical analysis in Python. There are lots of packages you can use to analyze relationships in your data. In this discussion we'll focus on <a href = \"https://www.statsmodels.org/stable/index.html\">statsmodel.</a> Another useful package that we won't cover today is <a href = \"https://scikit-learn.org/stable/\">sklearn.</a> \n",
    "\n",
    "We'll be using the waste water scan data. This data measures the amount of COVID-19, influenza and other viruses in wastewater. For more details see the <a href = \"https://docs.google.com/document/d/1vmTYziZxRMxANLVG0ly1c4-3scamvvXEkpsISZ_dF3E/edit\">data dictionary.</a> "
   ]
  },
  {
   "cell_type": "code",
   "execution_count": 1,
   "id": "1b337e81-5671-4fb7-b359-c0998b46fbe9",
   "metadata": {},
   "outputs": [],
   "source": [
    "import pandas as pd\n",
    "import matplotlib.pyplot as plt\n",
    "import statsmodels.api as sm\n",
    "\n",
    "from statsmodels.formula.api import ols"
   ]
  },
  {
   "cell_type": "code",
   "execution_count": 2,
   "id": "2fe342a4-5b1f-4981-a138-12e41c26f3e7",
   "metadata": {},
   "outputs": [],
   "source": [
    "df = pd.read_csv(\"https://docs.google.com/spreadsheets/d/1kQ6oEeNNntgQ0V2rv21_osuMO9Xr_ni6but7tVtrYjw/gviz/tq?tqx=out:csv\")"
   ]
  },
  {
   "cell_type": "code",
   "execution_count": 3,
   "id": "9bffecf2-9965-4590-bdae-baa36a33015f",
   "metadata": {},
   "outputs": [],
   "source": [
    "df['collection_date'] = pd.to_datetime(df['collection_date'])\n",
    "df['collection_month'] = df['collection_date'].dt.month"
   ]
  },
  {
   "cell_type": "code",
   "execution_count": 4,
   "id": "7e36bf2e-d32f-4b12-b35a-ee5a114ceec0",
   "metadata": {},
   "outputs": [],
   "source": [
    "def assign_month(s):\n",
    "    if s < 3 or s == 12:\n",
    "        return 'winter'\n",
    "    elif s <= 5:\n",
    "        return 'spring'\n",
    "    elif s <= 8:\n",
    "        return 'summer'\n",
    "    else:\n",
    "        return 'fall'\n",
    "\n",
    "df['season'] = df['collection_month'].apply(assign_month)"
   ]
  },
  {
   "cell_type": "code",
   "execution_count": 5,
   "id": "e8485a24-5ec3-4e01-9478-473ff2f5bf6a",
   "metadata": {},
   "outputs": [
    {
     "data": {
      "text/html": [
       "<div>\n",
       "<style scoped>\n",
       "    .dataframe tbody tr th:only-of-type {\n",
       "        vertical-align: middle;\n",
       "    }\n",
       "\n",
       "    .dataframe tbody tr th {\n",
       "        vertical-align: top;\n",
       "    }\n",
       "\n",
       "    .dataframe thead th {\n",
       "        text-align: right;\n",
       "    }\n",
       "</style>\n",
       "<table border=\"1\" class=\"dataframe\">\n",
       "  <thead>\n",
       "    <tr style=\"text-align: right;\">\n",
       "      <th></th>\n",
       "      <th>sample_id</th>\n",
       "      <th>collection_date</th>\n",
       "      <th>dilution</th>\n",
       "      <th>bcov_recovery</th>\n",
       "      <th>bcov_recovery_lci</th>\n",
       "      <th>bcov_recovery_uci</th>\n",
       "      <th>city</th>\n",
       "      <th>state</th>\n",
       "      <th>name</th>\n",
       "      <th>site_name</th>\n",
       "      <th>...</th>\n",
       "      <th>HAV_gc_g_dry_weight_lci</th>\n",
       "      <th>HAV_gc_g_dry_weight_uci</th>\n",
       "      <th>Rota_gc_g_dry_weight</th>\n",
       "      <th>Rota_gc_g_dry_weight_lci</th>\n",
       "      <th>Rota_gc_g_dry_weight_uci</th>\n",
       "      <th>HPIV_gc_g_dry_weight</th>\n",
       "      <th>HPIV_gc_g_dry_weight_lci</th>\n",
       "      <th>HPIV_gc_g_dry_weight_uci</th>\n",
       "      <th>collection_month</th>\n",
       "      <th>season</th>\n",
       "    </tr>\n",
       "  </thead>\n",
       "  <tbody>\n",
       "    <tr>\n",
       "      <th>0</th>\n",
       "      <td>51-220627</td>\n",
       "      <td>2022-06-27</td>\n",
       "      <td>1</td>\n",
       "      <td>2.221</td>\n",
       "      <td>1.884</td>\n",
       "      <td>2.576</td>\n",
       "      <td>Ann Arbor</td>\n",
       "      <td>Michigan</td>\n",
       "      <td>Ann Arbor, MI</td>\n",
       "      <td>City of Ann Arbor Wastewater Treatment Plant</td>\n",
       "      <td>...</td>\n",
       "      <td>NaN</td>\n",
       "      <td>NaN</td>\n",
       "      <td>NaN</td>\n",
       "      <td>NaN</td>\n",
       "      <td>NaN</td>\n",
       "      <td>NaN</td>\n",
       "      <td>NaN</td>\n",
       "      <td>NaN</td>\n",
       "      <td>6</td>\n",
       "      <td>summer</td>\n",
       "    </tr>\n",
       "    <tr>\n",
       "      <th>1</th>\n",
       "      <td>51-220629</td>\n",
       "      <td>2022-06-29</td>\n",
       "      <td>1</td>\n",
       "      <td>1.234</td>\n",
       "      <td>1.040</td>\n",
       "      <td>1.451</td>\n",
       "      <td>Ann Arbor</td>\n",
       "      <td>Michigan</td>\n",
       "      <td>Ann Arbor, MI</td>\n",
       "      <td>City of Ann Arbor Wastewater Treatment Plant</td>\n",
       "      <td>...</td>\n",
       "      <td>NaN</td>\n",
       "      <td>NaN</td>\n",
       "      <td>NaN</td>\n",
       "      <td>NaN</td>\n",
       "      <td>NaN</td>\n",
       "      <td>NaN</td>\n",
       "      <td>NaN</td>\n",
       "      <td>NaN</td>\n",
       "      <td>6</td>\n",
       "      <td>summer</td>\n",
       "    </tr>\n",
       "    <tr>\n",
       "      <th>2</th>\n",
       "      <td>51-220701</td>\n",
       "      <td>2022-07-01</td>\n",
       "      <td>1</td>\n",
       "      <td>0.747</td>\n",
       "      <td>0.534</td>\n",
       "      <td>1.010</td>\n",
       "      <td>Ann Arbor</td>\n",
       "      <td>Michigan</td>\n",
       "      <td>Ann Arbor, MI</td>\n",
       "      <td>City of Ann Arbor Wastewater Treatment Plant</td>\n",
       "      <td>...</td>\n",
       "      <td>NaN</td>\n",
       "      <td>NaN</td>\n",
       "      <td>NaN</td>\n",
       "      <td>NaN</td>\n",
       "      <td>NaN</td>\n",
       "      <td>NaN</td>\n",
       "      <td>NaN</td>\n",
       "      <td>NaN</td>\n",
       "      <td>7</td>\n",
       "      <td>summer</td>\n",
       "    </tr>\n",
       "    <tr>\n",
       "      <th>3</th>\n",
       "      <td>51-220704</td>\n",
       "      <td>2022-07-04</td>\n",
       "      <td>1</td>\n",
       "      <td>0.874</td>\n",
       "      <td>0.511</td>\n",
       "      <td>1.220</td>\n",
       "      <td>Ann Arbor</td>\n",
       "      <td>Michigan</td>\n",
       "      <td>Ann Arbor, MI</td>\n",
       "      <td>City of Ann Arbor Wastewater Treatment Plant</td>\n",
       "      <td>...</td>\n",
       "      <td>NaN</td>\n",
       "      <td>NaN</td>\n",
       "      <td>NaN</td>\n",
       "      <td>NaN</td>\n",
       "      <td>NaN</td>\n",
       "      <td>NaN</td>\n",
       "      <td>NaN</td>\n",
       "      <td>NaN</td>\n",
       "      <td>7</td>\n",
       "      <td>summer</td>\n",
       "    </tr>\n",
       "    <tr>\n",
       "      <th>4</th>\n",
       "      <td>51-220706</td>\n",
       "      <td>2022-07-06</td>\n",
       "      <td>1</td>\n",
       "      <td>1.540</td>\n",
       "      <td>1.280</td>\n",
       "      <td>1.833</td>\n",
       "      <td>Ann Arbor</td>\n",
       "      <td>Michigan</td>\n",
       "      <td>Ann Arbor, MI</td>\n",
       "      <td>City of Ann Arbor Wastewater Treatment Plant</td>\n",
       "      <td>...</td>\n",
       "      <td>NaN</td>\n",
       "      <td>NaN</td>\n",
       "      <td>NaN</td>\n",
       "      <td>NaN</td>\n",
       "      <td>NaN</td>\n",
       "      <td>NaN</td>\n",
       "      <td>NaN</td>\n",
       "      <td>NaN</td>\n",
       "      <td>7</td>\n",
       "      <td>summer</td>\n",
       "    </tr>\n",
       "  </tbody>\n",
       "</table>\n",
       "<p>5 rows × 56 columns</p>\n",
       "</div>"
      ],
      "text/plain": [
       "   sample_id collection_date  dilution  bcov_recovery  bcov_recovery_lci  \\\n",
       "0  51-220627      2022-06-27         1          2.221              1.884   \n",
       "1  51-220629      2022-06-29         1          1.234              1.040   \n",
       "2  51-220701      2022-07-01         1          0.747              0.534   \n",
       "3  51-220704      2022-07-04         1          0.874              0.511   \n",
       "4  51-220706      2022-07-06         1          1.540              1.280   \n",
       "\n",
       "   bcov_recovery_uci       city     state           name  \\\n",
       "0              2.576  Ann Arbor  Michigan  Ann Arbor, MI   \n",
       "1              1.451  Ann Arbor  Michigan  Ann Arbor, MI   \n",
       "2              1.010  Ann Arbor  Michigan  Ann Arbor, MI   \n",
       "3              1.220  Ann Arbor  Michigan  Ann Arbor, MI   \n",
       "4              1.833  Ann Arbor  Michigan  Ann Arbor, MI   \n",
       "\n",
       "                                      site_name  ...  HAV_gc_g_dry_weight_lci  \\\n",
       "0  City of Ann Arbor Wastewater Treatment Plant  ...                      NaN   \n",
       "1  City of Ann Arbor Wastewater Treatment Plant  ...                      NaN   \n",
       "2  City of Ann Arbor Wastewater Treatment Plant  ...                      NaN   \n",
       "3  City of Ann Arbor Wastewater Treatment Plant  ...                      NaN   \n",
       "4  City of Ann Arbor Wastewater Treatment Plant  ...                      NaN   \n",
       "\n",
       "  HAV_gc_g_dry_weight_uci  Rota_gc_g_dry_weight  Rota_gc_g_dry_weight_lci  \\\n",
       "0                     NaN                   NaN                       NaN   \n",
       "1                     NaN                   NaN                       NaN   \n",
       "2                     NaN                   NaN                       NaN   \n",
       "3                     NaN                   NaN                       NaN   \n",
       "4                     NaN                   NaN                       NaN   \n",
       "\n",
       "   Rota_gc_g_dry_weight_uci  HPIV_gc_g_dry_weight  HPIV_gc_g_dry_weight_lci  \\\n",
       "0                       NaN                   NaN                       NaN   \n",
       "1                       NaN                   NaN                       NaN   \n",
       "2                       NaN                   NaN                       NaN   \n",
       "3                       NaN                   NaN                       NaN   \n",
       "4                       NaN                   NaN                       NaN   \n",
       "\n",
       "   HPIV_gc_g_dry_weight_uci  collection_month  season  \n",
       "0                       NaN                 6  summer  \n",
       "1                       NaN                 6  summer  \n",
       "2                       NaN                 7  summer  \n",
       "3                       NaN                 7  summer  \n",
       "4                       NaN                 7  summer  \n",
       "\n",
       "[5 rows x 56 columns]"
      ]
     },
     "execution_count": 5,
     "metadata": {},
     "output_type": "execute_result"
    }
   ],
   "source": [
    "df.head()"
   ]
  },
  {
   "cell_type": "markdown",
   "id": "f2aced81-820a-4381-a313-3237f395ee55",
   "metadata": {},
   "source": [
    "<h2>Live Coding Example: Do we detect higher levels of COVID-19 in certain seasons?</h2>"
   ]
  },
  {
   "cell_type": "markdown",
   "id": "a2242f27-8126-4899-86ef-33a4d0bf7567",
   "metadata": {},
   "source": [
    "We went ahead and created a new variable called `season` for you. For the sake of this excersize, we'll assume \n",
    "\n",
    "* Winter = December, January, February\n",
    "* Spring = March, April, May\n",
    "* Summer = June, July, August\n",
    "* Fall = September, October, November"
   ]
  },
  {
   "cell_type": "markdown",
   "id": "2cc6fcab-d2ae-4c5a-9b3c-fe957833f6b5",
   "metadata": {},
   "source": [
    "<h3>1.A: Create a plot that shows the relationship between COVID-19 and season</h3>\n",
    "Before we go through the effort of doing a full statistical analysis, it can be helpful to plot our data to see if there's any relationship. Let's create a plot that shows the relationship between COVID-19 and season.\n",
    "\n",
    "There are a few different ways COVID-19 levels are measured in this dataset. We'll use the variable `N_Gene_gc_g_dry_weight`"
   ]
  },
  {
   "cell_type": "code",
   "execution_count": 8,
   "id": "8d89fa4d-6c9a-436b-b461-f8306c01d33c",
   "metadata": {},
   "outputs": [
    {
     "data": {
      "text/plain": [
       "<BarContainer object of 4 artists>"
      ]
     },
     "execution_count": 8,
     "metadata": {},
     "output_type": "execute_result"
    },
    {
     "data": {
      "image/png": "[encoded data removed]",
      "text/plain": [
       "<Figure size 640x480 with 1 Axes>"
      ]
     },
     "metadata": {},
     "output_type": "display_data"
    }
   ],
   "source": [
    "avg_covid = df.groupby('season')['N_Gene_gc_g_dry_weight'].mean()\n",
    "avg_covid = avg_covid.reset_index()\n",
    "\n",
    "plt.bar(height = avg_covid['N_Gene_gc_g_dry_weight'], x = avg_covid['season'])"
   ]
  },
  {
   "cell_type": "markdown",
   "id": "0d2e5370-60b3-47a0-b1fd-8fe19e297a33",
   "metadata": {},
   "source": [
    "<h3>1.B Analysis of Variance</h3>\n",
    "\n",
    "We are interested in how each individual season impacts COVID-19 levels. This means a type 2 anova is most appropriate. For a refresher on what type of ANOVA to use, see <a href = \"https://md.psych.bio.uni-goettingen.de/mv/unit/lm_cat/lm_cat_unbal_ss_explained.html\">this page</a>"
   ]
  },
  {
   "cell_type": "code",
   "execution_count": 11,
   "id": "fa926747-b611-4364-b055-aae677b39207",
   "metadata": {},
   "outputs": [],
   "source": [
    "season_ols = ols('N_Gene_gc_g_dry_weight ~ C(season)', data = df).fit()"
   ]
  },
  {
   "cell_type": "code",
   "execution_count": 13,
   "id": "6de9f909-3fec-4246-8d20-4059d24e0022",
   "metadata": {},
   "outputs": [
    {
     "data": {
      "text/html": [
       "<div>\n",
       "<style scoped>\n",
       "    .dataframe tbody tr th:only-of-type {\n",
       "        vertical-align: middle;\n",
       "    }\n",
       "\n",
       "    .dataframe tbody tr th {\n",
       "        vertical-align: top;\n",
       "    }\n",
       "\n",
       "    .dataframe thead th {\n",
       "        text-align: right;\n",
       "    }\n",
       "</style>\n",
       "<table border=\"1\" class=\"dataframe\">\n",
       "  <thead>\n",
       "    <tr style=\"text-align: right;\">\n",
       "      <th></th>\n",
       "      <th>sum_sq</th>\n",
       "      <th>df</th>\n",
       "      <th>F</th>\n",
       "      <th>PR(&gt;F)</th>\n",
       "    </tr>\n",
       "  </thead>\n",
       "  <tbody>\n",
       "    <tr>\n",
       "      <th>C(season)</th>\n",
       "      <td>1.569946e+12</td>\n",
       "      <td>3.0</td>\n",
       "      <td>4.098888</td>\n",
       "      <td>0.007534</td>\n",
       "    </tr>\n",
       "    <tr>\n",
       "      <th>Residual</th>\n",
       "      <td>2.502382e+13</td>\n",
       "      <td>196.0</td>\n",
       "      <td>NaN</td>\n",
       "      <td>NaN</td>\n",
       "    </tr>\n",
       "  </tbody>\n",
       "</table>\n",
       "</div>"
      ],
      "text/plain": [
       "                 sum_sq     df         F    PR(>F)\n",
       "C(season)  1.569946e+12    3.0  4.098888  0.007534\n",
       "Residual   2.502382e+13  196.0       NaN       NaN"
      ]
     },
     "execution_count": 13,
     "metadata": {},
     "output_type": "execute_result"
    }
   ],
   "source": [
    "sm.stats.anova_lm(season_ols, typ = 2)"
   ]
  },
  {
   "cell_type": "markdown",
   "id": "a19ce1af-0a57-49ba-ad6d-2b9591ec031c",
   "metadata": {},
   "source": [
    "<h3>1.C Interpretation</h3>\n",
    "\n",
    "One of the most important parts of doing statistical analysis is interpretting your results *in the context of the problem.* Let's write 1-2 sentences explaining what these results mean."
   ]
  },
  {
   "cell_type": "markdown",
   "id": "fc5f8875-728f-45ae-96f5-419e18ed6db6",
   "metadata": {},
   "source": [
    "you answer here"
   ]
  },
  {
   "cell_type": "markdown",
   "id": "f687807d-fa0f-4328-a17c-6368202768b7",
   "metadata": {},
   "source": [
    "<h2>Question 1: What is the relationship between COVID-19 levels and influenza levels?</h2>\n",
    "\n",
    "Use the column `Influenza_A_gc_g_dry_weight` to measure influenza levels"
   ]
  },
  {
   "cell_type": "markdown",
   "id": "481bdf73-c446-4580-b25b-375c2ebbc1ce",
   "metadata": {},
   "source": [
    "<h3>1.A: Create a plot that shows the relationship between COVID-19 and influenza</h3>"
   ]
  },
  {
   "cell_type": "code",
   "execution_count": 16,
   "id": "52dc8860-8a22-4f70-a3ae-d12e46221403",
   "metadata": {},
   "outputs": [
    {
     "data": {
      "text/plain": [
       "<matplotlib.collections.PathCollection at 0x14d0d9e10>"
      ]
     },
     "execution_count": 16,
     "metadata": {},
     "output_type": "execute_result"
    },
    {
     "data": {
      "image/png": "[encoded data removed]",
      "text/plain": [
       "<Figure size 640x480 with 1 Axes>"
      ]
     },
     "metadata": {},
     "output_type": "display_data"
    }
   ],
   "source": [
    "plt.scatter(df['Influenza_A_gc_g_dry_weight'], df['N_Gene_gc_g_dry_weight'])"
   ]
  },
  {
   "cell_type": "markdown",
   "id": "41157dc2-0058-43ab-a268-6c1f27022c63",
   "metadata": {},
   "source": [
    "<h3>1.B: Calculate the correlation between these two variables</h3>"
   ]
  },
  {
   "cell_type": "code",
   "execution_count": 18,
   "id": "92494b89-b668-4d85-b6b5-21a7e13dfcf6",
   "metadata": {},
   "outputs": [
    {
     "data": {
      "text/html": [
       "<div>\n",
       "<style scoped>\n",
       "    .dataframe tbody tr th:only-of-type {\n",
       "        vertical-align: middle;\n",
       "    }\n",
       "\n",
       "    .dataframe tbody tr th {\n",
       "        vertical-align: top;\n",
       "    }\n",
       "\n",
       "    .dataframe thead th {\n",
       "        text-align: right;\n",
       "    }\n",
       "</style>\n",
       "<table border=\"1\" class=\"dataframe\">\n",
       "  <thead>\n",
       "    <tr style=\"text-align: right;\">\n",
       "      <th></th>\n",
       "      <th>N_Gene_gc_g_dry_weight</th>\n",
       "      <th>Influenza_A_gc_g_dry_weight</th>\n",
       "    </tr>\n",
       "  </thead>\n",
       "  <tbody>\n",
       "    <tr>\n",
       "      <th>N_Gene_gc_g_dry_weight</th>\n",
       "      <td>1.000000</td>\n",
       "      <td>0.389812</td>\n",
       "    </tr>\n",
       "    <tr>\n",
       "      <th>Influenza_A_gc_g_dry_weight</th>\n",
       "      <td>0.389812</td>\n",
       "      <td>1.000000</td>\n",
       "    </tr>\n",
       "  </tbody>\n",
       "</table>\n",
       "</div>"
      ],
      "text/plain": [
       "                             N_Gene_gc_g_dry_weight  \\\n",
       "N_Gene_gc_g_dry_weight                     1.000000   \n",
       "Influenza_A_gc_g_dry_weight                0.389812   \n",
       "\n",
       "                             Influenza_A_gc_g_dry_weight  \n",
       "N_Gene_gc_g_dry_weight                          0.389812  \n",
       "Influenza_A_gc_g_dry_weight                     1.000000  "
      ]
     },
     "execution_count": 18,
     "metadata": {},
     "output_type": "execute_result"
    }
   ],
   "source": [
    "df[['N_Gene_gc_g_dry_weight', 'Influenza_A_gc_g_dry_weight']].corr()"
   ]
  },
  {
   "cell_type": "markdown",
   "id": "8ca1c14c-ce6f-497e-9940-7f940a7fb1eb",
   "metadata": {},
   "source": [
    "<h3>1.C: Interpret in context</h3>"
   ]
  },
  {
   "cell_type": "markdown",
   "id": "f3f9271a-9661-40cc-94d6-3e7aa6bb476a",
   "metadata": {},
   "source": [
    "Your answer here"
   ]
  },
  {
   "attachments": {},
   "cell_type": "markdown",
   "id": "3d74c36c-b79a-499a-9515-50a8340c2a96",
   "metadata": {},
   "source": [
    "<h3>1.D: Linear Regression</h3>\n",
    "\n",
    "Let's predict influenza levels based on COVID-19 levels and the season"
   ]
  },
  {
   "cell_type": "code",
   "execution_count": 19,
   "id": "fdccf0c0-cf98-4c0f-815d-dfdbbbfbd63d",
   "metadata": {},
   "outputs": [],
   "source": [
    "model = ols('Influenza_A_gc_g_dry_weight ~ N_Gene_gc_g_dry_weight + C(season)', data = df)\n",
    "result = model.fit()"
   ]
  },
  {
   "cell_type": "code",
   "execution_count": 20,
   "id": "a40a911c-03b8-41d0-bc1a-68b8fd7490dd",
   "metadata": {},
   "outputs": [
    {
     "data": {
      "text/html": [
       "<table class=\"simpletable\">\n",
       "<caption>OLS Regression Results</caption>\n",
       "<tr>\n",
       "  <th>Dep. Variable:</th>    <td>Influenza_A_gc_g_dry_weight</td> <th>  R-squared:         </th> <td>   0.384</td>\n",
       "</tr>\n",
       "<tr>\n",
       "  <th>Model:</th>                        <td>OLS</td>             <th>  Adj. R-squared:    </th> <td>   0.372</td>\n",
       "</tr>\n",
       "<tr>\n",
       "  <th>Method:</th>                  <td>Least Squares</td>        <th>  F-statistic:       </th> <td>   30.43</td>\n",
       "</tr>\n",
       "<tr>\n",
       "  <th>Date:</th>                  <td>Wed, 01 Nov 2023</td>       <th>  Prob (F-statistic):</th> <td>1.12e-19</td>\n",
       "</tr>\n",
       "<tr>\n",
       "  <th>Time:</th>                      <td>16:43:32</td>           <th>  Log-Likelihood:    </th> <td> -2357.1</td>\n",
       "</tr>\n",
       "<tr>\n",
       "  <th>No. Observations:</th>           <td>   200</td>            <th>  AIC:               </th> <td>   4724.</td>\n",
       "</tr>\n",
       "<tr>\n",
       "  <th>Df Residuals:</th>               <td>   195</td>            <th>  BIC:               </th> <td>   4741.</td>\n",
       "</tr>\n",
       "<tr>\n",
       "  <th>Df Model:</th>                   <td>     4</td>            <th>                     </th>     <td> </td>   \n",
       "</tr>\n",
       "<tr>\n",
       "  <th>Covariance Type:</th>           <td>nonrobust</td>          <th>                     </th>     <td> </td>   \n",
       "</tr>\n",
       "</table>\n",
       "<table class=\"simpletable\">\n",
       "<tr>\n",
       "             <td></td>               <th>coef</th>     <th>std err</th>      <th>t</th>      <th>P>|t|</th>  <th>[0.025</th>    <th>0.975]</th>  \n",
       "</tr>\n",
       "<tr>\n",
       "  <th>Intercept</th>              <td>-5778.0839</td> <td> 5010.213</td> <td>   -1.153</td> <td> 0.250</td> <td>-1.57e+04</td> <td> 4103.079</td>\n",
       "</tr>\n",
       "<tr>\n",
       "  <th>C(season)[T.spring]</th>    <td>-3330.0325</td> <td> 6870.529</td> <td>   -0.485</td> <td> 0.628</td> <td>-1.69e+04</td> <td> 1.02e+04</td>\n",
       "</tr>\n",
       "<tr>\n",
       "  <th>C(season)[T.summer]</th>    <td>-2511.3224</td> <td> 5855.376</td> <td>   -0.429</td> <td> 0.668</td> <td>-1.41e+04</td> <td> 9036.675</td>\n",
       "</tr>\n",
       "<tr>\n",
       "  <th>C(season)[T.winter]</th>    <td> 4.849e+04</td> <td> 6697.611</td> <td>    7.240</td> <td> 0.000</td> <td> 3.53e+04</td> <td> 6.17e+04</td>\n",
       "</tr>\n",
       "<tr>\n",
       "  <th>N_Gene_gc_g_dry_weight</th> <td>    0.0350</td> <td>    0.006</td> <td>    5.435</td> <td> 0.000</td> <td>    0.022</td> <td>    0.048</td>\n",
       "</tr>\n",
       "</table>\n",
       "<table class=\"simpletable\">\n",
       "<tr>\n",
       "  <th>Omnibus:</th>       <td>121.153</td> <th>  Durbin-Watson:     </th> <td>   0.841</td> \n",
       "</tr>\n",
       "<tr>\n",
       "  <th>Prob(Omnibus):</th> <td> 0.000</td>  <th>  Jarque-Bera (JB):  </th> <td> 871.220</td> \n",
       "</tr>\n",
       "<tr>\n",
       "  <th>Skew:</th>          <td> 2.267</td>  <th>  Prob(JB):          </th> <td>6.56e-190</td>\n",
       "</tr>\n",
       "<tr>\n",
       "  <th>Kurtosis:</th>      <td>12.165</td>  <th>  Cond. No.          </th> <td>2.15e+06</td> \n",
       "</tr>\n",
       "</table><br/><br/>Notes:<br/>[1] Standard Errors assume that the covariance matrix of the errors is correctly specified.<br/>[2] The condition number is large, 2.15e+06. This might indicate that there are<br/>strong multicollinearity or other numerical problems."
      ],
      "text/latex": [
       "\\begin{center}\n",
       "\\begin{tabular}{lclc}\n",
       "\\toprule\n",
       "\\textbf{Dep. Variable:}              & Influenza\\_A\\_gc\\_g\\_dry\\_weight & \\textbf{  R-squared:         } &     0.384   \\\\\n",
       "\\textbf{Model:}                      &               OLS                & \\textbf{  Adj. R-squared:    } &     0.372   \\\\\n",
       "\\textbf{Method:}                     &          Least Squares           & \\textbf{  F-statistic:       } &     30.43   \\\\\n",
       "\\textbf{Date:}                       &         Wed, 01 Nov 2023         & \\textbf{  Prob (F-statistic):} &  1.12e-19   \\\\\n",
       "\\textbf{Time:}                       &             16:43:32             & \\textbf{  Log-Likelihood:    } &   -2357.1   \\\\\n",
       "\\textbf{No. Observations:}           &                 200              & \\textbf{  AIC:               } &     4724.   \\\\\n",
       "\\textbf{Df Residuals:}               &                 195              & \\textbf{  BIC:               } &     4741.   \\\\\n",
       "\\textbf{Df Model:}                   &                   4              & \\textbf{                     } &             \\\\\n",
       "\\textbf{Covariance Type:}            &            nonrobust             & \\textbf{                     } &             \\\\\n",
       "\\bottomrule\n",
       "\\end{tabular}\n",
       "\\begin{tabular}{lcccccc}\n",
       "                                     & \\textbf{coef} & \\textbf{std err} & \\textbf{t} & \\textbf{P$> |$t$|$} & \\textbf{[0.025} & \\textbf{0.975]}  \\\\\n",
       "\\midrule\n",
       "\\textbf{Intercept}                   &   -5778.0839  &     5010.213     &    -1.153  &         0.250        &    -1.57e+04    &     4103.079     \\\\\n",
       "\\textbf{C(season)[T.spring]}         &   -3330.0325  &     6870.529     &    -0.485  &         0.628        &    -1.69e+04    &     1.02e+04     \\\\\n",
       "\\textbf{C(season)[T.summer]}         &   -2511.3224  &     5855.376     &    -0.429  &         0.668        &    -1.41e+04    &     9036.675     \\\\\n",
       "\\textbf{C(season)[T.winter]}         &    4.849e+04  &     6697.611     &     7.240  &         0.000        &     3.53e+04    &     6.17e+04     \\\\\n",
       "\\textbf{N\\_Gene\\_gc\\_g\\_dry\\_weight} &       0.0350  &        0.006     &     5.435  &         0.000        &        0.022    &        0.048     \\\\\n",
       "\\bottomrule\n",
       "\\end{tabular}\n",
       "\\begin{tabular}{lclc}\n",
       "\\textbf{Omnibus:}       & 121.153 & \\textbf{  Durbin-Watson:     } &     0.841  \\\\\n",
       "\\textbf{Prob(Omnibus):} &   0.000 & \\textbf{  Jarque-Bera (JB):  } &   871.220  \\\\\n",
       "\\textbf{Skew:}          &   2.267 & \\textbf{  Prob(JB):          } & 6.56e-190  \\\\\n",
       "\\textbf{Kurtosis:}      &  12.165 & \\textbf{  Cond. No.          } &  2.15e+06  \\\\\n",
       "\\bottomrule\n",
       "\\end{tabular}\n",
       "%\\caption{OLS Regression Results}\n",
       "\\end{center}\n",
       "\n",
       "Notes: \\newline\n",
       " [1] Standard Errors assume that the covariance matrix of the errors is correctly specified. \\newline\n",
       " [2] The condition number is large, 2.15e+06. This might indicate that there are \\newline\n",
       " strong multicollinearity or other numerical problems."
      ],
      "text/plain": [
       "<class 'statsmodels.iolib.summary.Summary'>\n",
       "\"\"\"\n",
       "                                 OLS Regression Results                                \n",
       "=======================================================================================\n",
       "Dep. Variable:     Influenza_A_gc_g_dry_weight   R-squared:                       0.384\n",
       "Model:                                     OLS   Adj. R-squared:                  0.372\n",
       "Method:                          Least Squares   F-statistic:                     30.43\n",
       "Date:                         Wed, 01 Nov 2023   Prob (F-statistic):           1.12e-19\n",
       "Time:                                 16:43:32   Log-Likelihood:                -2357.1\n",
       "No. Observations:                          200   AIC:                             4724.\n",
       "Df Residuals:                              195   BIC:                             4741.\n",
       "Df Model:                                    4                                         \n",
       "Covariance Type:                     nonrobust                                         \n",
       "==========================================================================================\n",
       "                             coef    std err          t      P>|t|      [0.025      0.975]\n",
       "------------------------------------------------------------------------------------------\n",
       "Intercept              -5778.0839   5010.213     -1.153      0.250   -1.57e+04    4103.079\n",
       "C(season)[T.spring]    -3330.0325   6870.529     -0.485      0.628   -1.69e+04    1.02e+04\n",
       "C(season)[T.summer]    -2511.3224   5855.376     -0.429      0.668   -1.41e+04    9036.675\n",
       "C(season)[T.winter]     4.849e+04   6697.611      7.240      0.000    3.53e+04    6.17e+04\n",
       "N_Gene_gc_g_dry_weight     0.0350      0.006      5.435      0.000       0.022       0.048\n",
       "==============================================================================\n",
       "Omnibus:                      121.153   Durbin-Watson:                   0.841\n",
       "Prob(Omnibus):                  0.000   Jarque-Bera (JB):              871.220\n",
       "Skew:                           2.267   Prob(JB):                    6.56e-190\n",
       "Kurtosis:                      12.165   Cond. No.                     2.15e+06\n",
       "==============================================================================\n",
       "\n",
       "Notes:\n",
       "[1] Standard Errors assume that the covariance matrix of the errors is correctly specified.\n",
       "[2] The condition number is large, 2.15e+06. This might indicate that there are\n",
       "strong multicollinearity or other numerical problems.\n",
       "\"\"\""
      ]
     },
     "execution_count": 20,
     "metadata": {},
     "output_type": "execute_result"
    }
   ],
   "source": [
    "result.summary()"
   ]
  },
  {
   "cell_type": "code",
   "execution_count": null,
   "id": "7a784e74-1523-466b-a28d-319a51b8ebce",
   "metadata": {},
   "outputs": [],
   "source": [
    "model.predict()"
   ]
  },
  {
   "cell_type": "markdown",
   "id": "ff8a65e9-da8c-449f-b4e2-d27e3156f155",
   "metadata": {},
   "source": [
    "<h3>1.E: Interpret in context</h3>\n",
    "\n",
    "There are lots of interesting results from our linear regression! You don't have to interpret everything, but here are some things to pay attention to when reading your regression results:\n",
    "\n",
    "* <a href = \"https://people.duke.edu/~rnau/rsquared.htm\">R-squared</a>\n",
    "* <a href = \"https://stats.oarc.ucla.edu/spss/library/spss-libraryunderstanding-and-interpreting-parameter-estimates-in-regression-and-anova/\">Parameter estimates and their p-value</a>\n",
    "* <a href = \"https://stats.oarc.ucla.edu/stata/output/regression-analysis/\">F statistic</a>"
   ]
  },
  {
   "cell_type": "markdown",
   "id": "4abd354c-71eb-45d9-8289-a7f726ffa7cb",
   "metadata": {},
   "source": []
  },
  {
   "cell_type": "markdown",
   "id": "5e083b33-802a-4c8f-beb7-1ecb97858d9d",
   "metadata": {},
   "source": [
    "<h2>Bonus Question</h2>\n",
    "This is a bonus question for you to attempt individually. This can only help your grade, so try your best! Make sure to submit your completed notebook to Vocareum. \n",
    "\n",
    "Create a linear regression model that predicts `Noro_G2_gc_g_dry_weight` based on `Influenza_A_gc_g_dry_weight`, the year the sample was collected and the `dilution` field. Save your fitted model to the variable `bonus_model`"
   ]
  }
 ],
 "metadata": {
  "kernelspec": {
   "display_name": "Python 3 (ipykernel)",
   "language": "python",
   "name": "python3"
  },
  "language_info": {
   "codemirror_mode": {
    "name": "ipython",
    "version": 3
   },
   "file_extension": ".py",
   "mimetype": "text/x-python",
   "name": "python",
   "nbconvert_exporter": "python",
   "pygments_lexer": "ipython3",
   "version": "3.11.6"
  }
 },
 "nbformat": 4,
 "nbformat_minor": 5
}
