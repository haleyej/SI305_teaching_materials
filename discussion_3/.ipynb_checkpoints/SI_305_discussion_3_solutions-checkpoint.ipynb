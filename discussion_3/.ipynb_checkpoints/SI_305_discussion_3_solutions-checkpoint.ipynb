{
 "cells": [
  {
   "cell_type": "markdown",
   "id": "fec6ebb6",
   "metadata": {},
   "source": [
    "<h1>INSTRUCTOR VERSION: SI 305 Discussion 3: Data Manipulation & Analysis in Pandas</h1>\n",
    "</br>\n",
    "<em>Note: These exercises are not graded, and are solely meant to help you complete your project</em>"
   ]
  },
  {
   "cell_type": "markdown",
   "id": "6276bba2",
   "metadata": {},
   "source": [
    "<b>Learning Objectives:</b>\n",
    "<ul>\n",
    "    <li>Read in data from a csv file in Pandas</li>\n",
    "    <li>Use boolean filters on a dataframes</li>\n",
    "    <li>Aggregate columns</li>\n",
    "    <li>Add new columns to a dataframe</li>\n",
    "</ul>"
   ]
  },
  {
   "cell_type": "code",
   "execution_count": 1,
   "id": "eef0131d",
   "metadata": {},
   "outputs": [],
   "source": [
    "import pandas as pd"
   ]
  },
  {
   "cell_type": "markdown",
   "id": "583bf053",
   "metadata": {},
   "source": [
    "This week, we'll be using the <a href = \"https://drive.google.com/file/d/1Pt0rC8VsbFEvzDK_AJuVyW1EGFegM8_6/view\">Barton Pond monitoring data</a> from the City of Ann Arbor. We have done some light data cleaning for you, so we'll be using a modified version of the dataset.\n",
    "\n",
    "You can read more about what the columns represent <a href = \"https://docs.google.com/document/d/1Gr55t_9o1twEV8zBRMnzdfB-E42gmWOgC0f34J3z8bA/edit\">here</a>"
   ]
  },
  {
   "cell_type": "code",
   "execution_count": 2,
   "id": "9df08909",
   "metadata": {},
   "outputs": [],
   "source": [
    "df = pd.read_csv(\"barton_pond_monitoring_clean.csv\")"
   ]
  },
  {
   "cell_type": "code",
   "execution_count": 3,
   "id": "c92aff78",
   "metadata": {},
   "outputs": [
    {
     "data": {
      "text/plain": [
       "(1136, 21)"
      ]
     },
     "execution_count": 3,
     "metadata": {},
     "output_type": "execute_result"
    }
   ],
   "source": [
    "df.shape"
   ]
  },
  {
   "cell_type": "code",
   "execution_count": 4,
   "id": "0a1c6a60",
   "metadata": {},
   "outputs": [
    {
     "data": {
      "text/html": [
       "<div>\n",
       "<style scoped>\n",
       "    .dataframe tbody tr th:only-of-type {\n",
       "        vertical-align: middle;\n",
       "    }\n",
       "\n",
       "    .dataframe tbody tr th {\n",
       "        vertical-align: top;\n",
       "    }\n",
       "\n",
       "    .dataframe thead th {\n",
       "        text-align: right;\n",
       "    }\n",
       "</style>\n",
       "<table border=\"1\" class=\"dataframe\">\n",
       "  <thead>\n",
       "    <tr style=\"text-align: right;\">\n",
       "      <th></th>\n",
       "      <th>Sample ID</th>\n",
       "      <th>Location description</th>\n",
       "      <th>Collection Date/Time</th>\n",
       "      <th>!OBS_BARTON_PND</th>\n",
       "      <th>AMMONIA</th>\n",
       "      <th>COND_FIELD</th>\n",
       "      <th>DO_FIELD</th>\n",
       "      <th>DPTH_MSRMNT_TKN</th>\n",
       "      <th>ECOLI_MPN</th>\n",
       "      <th>ENTERO_MPN</th>\n",
       "      <th>...</th>\n",
       "      <th>NITRITE PH</th>\n",
       "      <th>PH_FIELD</th>\n",
       "      <th>PHOS_META</th>\n",
       "      <th>PHOS_ORTHO</th>\n",
       "      <th>PHOS_TOTAL</th>\n",
       "      <th>SECCI_DEPTH</th>\n",
       "      <th>TEMP_C_FIELD</th>\n",
       "      <th>TOTAL_COLI_MPN</th>\n",
       "      <th>TSS</th>\n",
       "      <th>UV254</th>\n",
       "    </tr>\n",
       "  </thead>\n",
       "  <tbody>\n",
       "    <tr>\n",
       "      <th>0</th>\n",
       "      <td>AA18446</td>\n",
       "      <td>site 2</td>\n",
       "      <td>9/24/2013 11:58</td>\n",
       "      <td>NaN</td>\n",
       "      <td>NaN</td>\n",
       "      <td>NaN</td>\n",
       "      <td>NaN</td>\n",
       "      <td>NaN</td>\n",
       "      <td>NaN</td>\n",
       "      <td>NaN</td>\n",
       "      <td>...</td>\n",
       "      <td>NaN</td>\n",
       "      <td>NaN</td>\n",
       "      <td>NaN</td>\n",
       "      <td>NaN</td>\n",
       "      <td>NaN</td>\n",
       "      <td>NaN</td>\n",
       "      <td>NaN</td>\n",
       "      <td>NaN</td>\n",
       "      <td>NaN</td>\n",
       "      <td>NaN</td>\n",
       "    </tr>\n",
       "    <tr>\n",
       "      <th>1</th>\n",
       "      <td>AB41464</td>\n",
       "      <td>site 1</td>\n",
       "      <td>8/26/2014 9:45</td>\n",
       "      <td>NaN</td>\n",
       "      <td>NaN</td>\n",
       "      <td>NaN</td>\n",
       "      <td>NaN</td>\n",
       "      <td>NaN</td>\n",
       "      <td>NaN</td>\n",
       "      <td>NaN</td>\n",
       "      <td>...</td>\n",
       "      <td>NaN</td>\n",
       "      <td>NaN</td>\n",
       "      <td>NaN</td>\n",
       "      <td>NaN</td>\n",
       "      <td>NaN</td>\n",
       "      <td>NaN</td>\n",
       "      <td>NaN</td>\n",
       "      <td>NaN</td>\n",
       "      <td>NaN</td>\n",
       "      <td>NaN</td>\n",
       "    </tr>\n",
       "    <tr>\n",
       "      <th>2</th>\n",
       "      <td>AB75719</td>\n",
       "      <td>site 1</td>\n",
       "      <td>6/9/2015 9:49</td>\n",
       "      <td>Sunny, 70 F. Lots of aquatic weeds</td>\n",
       "      <td>0.118</td>\n",
       "      <td>788.0</td>\n",
       "      <td>7.23</td>\n",
       "      <td>NaN</td>\n",
       "      <td>31.8</td>\n",
       "      <td>26.9</td>\n",
       "      <td>...</td>\n",
       "      <td>11.17891</td>\n",
       "      <td>8.05</td>\n",
       "      <td>NaN</td>\n",
       "      <td>NaN</td>\n",
       "      <td>0.0286</td>\n",
       "      <td>5.50</td>\n",
       "      <td>21.0</td>\n",
       "      <td>2419.6</td>\n",
       "      <td>3.8</td>\n",
       "      <td>NaN</td>\n",
       "    </tr>\n",
       "    <tr>\n",
       "      <th>3</th>\n",
       "      <td>AB88442</td>\n",
       "      <td>site 1</td>\n",
       "      <td>7/28/2015 9:08</td>\n",
       "      <td>85 F and sunny. Pond water very stagnant.</td>\n",
       "      <td>0.125</td>\n",
       "      <td>698.0</td>\n",
       "      <td>10.09</td>\n",
       "      <td>NaN</td>\n",
       "      <td>4.1</td>\n",
       "      <td>3.1</td>\n",
       "      <td>...</td>\n",
       "      <td>5.49552</td>\n",
       "      <td>8.44</td>\n",
       "      <td>NaN</td>\n",
       "      <td>NaN</td>\n",
       "      <td>0.0565</td>\n",
       "      <td>7.00</td>\n",
       "      <td>27.3</td>\n",
       "      <td>1203.1</td>\n",
       "      <td>8.8</td>\n",
       "      <td>NaN</td>\n",
       "    </tr>\n",
       "    <tr>\n",
       "      <th>4</th>\n",
       "      <td>AB88443</td>\n",
       "      <td>site 2</td>\n",
       "      <td>7/28/2015 9:20</td>\n",
       "      <td>85 F and sunny. Pond water very stagnant.</td>\n",
       "      <td>0.100</td>\n",
       "      <td>701.0</td>\n",
       "      <td>9.72</td>\n",
       "      <td>NaN</td>\n",
       "      <td>6.3</td>\n",
       "      <td>1.0</td>\n",
       "      <td>...</td>\n",
       "      <td>5.49552</td>\n",
       "      <td>8.39</td>\n",
       "      <td>NaN</td>\n",
       "      <td>NaN</td>\n",
       "      <td>0.0458</td>\n",
       "      <td>5.66</td>\n",
       "      <td>27.3</td>\n",
       "      <td>1119.9</td>\n",
       "      <td>2.8</td>\n",
       "      <td>NaN</td>\n",
       "    </tr>\n",
       "  </tbody>\n",
       "</table>\n",
       "<p>5 rows × 21 columns</p>\n",
       "</div>"
      ],
      "text/plain": [
       "  Sample ID Location description Collection Date/Time  \\\n",
       "0   AA18446               site 2      9/24/2013 11:58   \n",
       "1   AB41464               site 1       8/26/2014 9:45   \n",
       "2   AB75719               site 1        6/9/2015 9:49   \n",
       "3   AB88442               site 1       7/28/2015 9:08   \n",
       "4   AB88443               site 2       7/28/2015 9:20   \n",
       "\n",
       "                              !OBS_BARTON_PND  AMMONIA  COND_FIELD  DO_FIELD  \\\n",
       "0                                         NaN      NaN         NaN       NaN   \n",
       "1                                         NaN      NaN         NaN       NaN   \n",
       "2          Sunny, 70 F. Lots of aquatic weeds    0.118       788.0      7.23   \n",
       "3  85 F and sunny. Pond water very stagnant.     0.125       698.0     10.09   \n",
       "4  85 F and sunny. Pond water very stagnant.     0.100       701.0      9.72   \n",
       "\n",
       "   DPTH_MSRMNT_TKN  ECOLI_MPN  ENTERO_MPN  ...  NITRITE PH  PH_FIELD  \\\n",
       "0              NaN        NaN         NaN  ...         NaN       NaN   \n",
       "1              NaN        NaN         NaN  ...         NaN       NaN   \n",
       "2              NaN       31.8        26.9  ...    11.17891      8.05   \n",
       "3              NaN        4.1         3.1  ...     5.49552      8.44   \n",
       "4              NaN        6.3         1.0  ...     5.49552      8.39   \n",
       "\n",
       "   PHOS_META  PHOS_ORTHO  PHOS_TOTAL  SECCI_DEPTH  TEMP_C_FIELD  \\\n",
       "0        NaN         NaN         NaN          NaN           NaN   \n",
       "1        NaN         NaN         NaN          NaN           NaN   \n",
       "2        NaN         NaN      0.0286         5.50          21.0   \n",
       "3        NaN         NaN      0.0565         7.00          27.3   \n",
       "4        NaN         NaN      0.0458         5.66          27.3   \n",
       "\n",
       "   TOTAL_COLI_MPN  TSS  UV254  \n",
       "0             NaN  NaN    NaN  \n",
       "1             NaN  NaN    NaN  \n",
       "2          2419.6  3.8    NaN  \n",
       "3          1203.1  8.8    NaN  \n",
       "4          1119.9  2.8    NaN  \n",
       "\n",
       "[5 rows x 21 columns]"
      ]
     },
     "execution_count": 4,
     "metadata": {},
     "output_type": "execute_result"
    }
   ],
   "source": [
    "df.head()"
   ]
  },
  {
   "cell_type": "markdown",
   "id": "f9d9affd",
   "metadata": {},
   "source": [
    "Pandas automatically reads in the 'Collection Date/Time' column as a string. This commonly happens when we read in data from a csv file.\n",
    "\n",
    "We want to convert this column to a datetime — this allows us to use functions that make working with this column much easier. We won't cover datetime functions much today, but you can learn more about converting columns to dates <a href = \"https://pandas.pydata.org/docs/reference/api/pandas.to_datetime.html\">here</a> and date/time series functionalities <a href = \"https://pandas.pydata.org/docs/user_guide/timeseries.html\">here.</a>"
   ]
  },
  {
   "cell_type": "code",
   "execution_count": 5,
   "id": "741478f7",
   "metadata": {},
   "outputs": [],
   "source": [
    "df['Collection Date/Time'] = pd.to_datetime(df['Collection Date/Time'])"
   ]
  },
  {
   "cell_type": "markdown",
   "id": "7250c469",
   "metadata": {},
   "source": [
    "<h3>Live Code Example</h3>\n",
    "What is the average amount of dissolved oxygen in sample taken at each site?"
   ]
  },
  {
   "cell_type": "code",
   "execution_count": 6,
   "id": "b5897468",
   "metadata": {},
   "outputs": [
    {
     "data": {
      "text/plain": [
       "Location description\n",
       "site 1    7.217166\n",
       "site 2    9.255973\n",
       "site 3    7.285217\n",
       "Name: DO_FIELD, dtype: float64"
      ]
     },
     "execution_count": 6,
     "metadata": {},
     "output_type": "execute_result"
    }
   ],
   "source": [
    "df.groupby('Location description')['DO_FIELD'].mean()"
   ]
  },
  {
   "cell_type": "markdown",
   "id": "e6154937",
   "metadata": {},
   "source": [
    "<h3>Question 1</h3>\n",
    "Create a new dataframe that only includes observations from site 1 and 3. Assign this dataframe to a variable called 'site_1_and_3'\n",
    "\n",
    "<em>Hint: see <a href = \"https://note.nkmk.me/en/python-pandas-multiple-conditions/\">this tutorial</a></em>"
   ]
  },
  {
   "cell_type": "code",
   "execution_count": 7,
   "id": "7eac17b8",
   "metadata": {},
   "outputs": [],
   "source": [
    "site_1_and_3 = df[(df['Location description'] == 'site 1') | (df['Location description'] == 'site 3')]"
   ]
  },
  {
   "cell_type": "markdown",
   "id": "fddd4544",
   "metadata": {},
   "source": [
    "<h4>Alternative Solution:</h4>"
   ]
  },
  {
   "cell_type": "code",
   "execution_count": 8,
   "id": "2d42636f",
   "metadata": {},
   "outputs": [],
   "source": [
    "site_1_and_3 = df[df['Location description'] != 'site 2']"
   ]
  },
  {
   "cell_type": "markdown",
   "id": "d1cdd6b0",
   "metadata": {},
   "source": [
    "<h3>Question 2</h3>\n",
    "Measuring pH provides information about the hydrogen ion concentration in the water. pH is measured on a logarithmic scale that ranges from 0-14, so river water with a pH value of 6 is 10 times more acidic than water with a pH value of 7.\n",
    "\n",
    "What is the highest pH level ever recorded at sites 1 and 3? What is the lowest? Use the dataframe you created in question 1."
   ]
  },
  {
   "cell_type": "code",
   "execution_count": 9,
   "id": "09525198",
   "metadata": {},
   "outputs": [],
   "source": [
    "max_ph = site_1_and_3.groupby('Location description')['PH_FIELD'].max()\n",
    "min_ph = site_1_and_3.groupby('Location description')['PH_FIELD'].min()"
   ]
  },
  {
   "cell_type": "code",
   "execution_count": 10,
   "id": "d1e53036",
   "metadata": {},
   "outputs": [
    {
     "data": {
      "text/plain": [
       "Location description\n",
       "site 1    27.64\n",
       "site 3     8.48\n",
       "Name: PH_FIELD, dtype: float64"
      ]
     },
     "execution_count": 10,
     "metadata": {},
     "output_type": "execute_result"
    }
   ],
   "source": [
    "max_ph"
   ]
  },
  {
   "cell_type": "code",
   "execution_count": 11,
   "id": "bb68963d",
   "metadata": {},
   "outputs": [
    {
     "data": {
      "text/plain": [
       "Location description\n",
       "site 1    7.08\n",
       "site 3    7.40\n",
       "Name: PH_FIELD, dtype: float64"
      ]
     },
     "execution_count": 11,
     "metadata": {},
     "output_type": "execute_result"
    }
   ],
   "source": [
    "min_ph"
   ]
  },
  {
   "cell_type": "markdown",
   "id": "1c194f2c",
   "metadata": {},
   "source": [
    "<h3>Question 3</h3>\n",
    "The optimal pH level for river water is ~7.4. Add a new column to the dataframe you created in question 1 called 'above_optimal_ph.' This column should be a boolean value (i.e. True or False) for if the pH is greater than 7.4. Don't worry about rows where pH values are missing.\n",
    "\n",
    "Learn more about river pH <a href = \"https://www.grc.nasa.gov/www/k-12/fenlewis/Waterquality.html\">here</a>\n",
    "\n",
    "<em>Hint: see <a href = \"https://pandas.pydata.org/docs/getting_started/intro_tutorials/05_add_columns.html#how-to-create-new-columns-derived-from-existing-columns\">this tutorial</a> on creating new columns</em>"
   ]
  },
  {
   "cell_type": "code",
   "execution_count": 12,
   "id": "429e1346",
   "metadata": {},
   "outputs": [
    {
     "name": "stderr",
     "output_type": "stream",
     "text": [
      "/var/folders/49/3f_15lzd6b57lnzlk4m_9k440000gn/T/ipykernel_92297/1201669278.py:1: SettingWithCopyWarning: \n",
      "A value is trying to be set on a copy of a slice from a DataFrame.\n",
      "Try using .loc[row_indexer,col_indexer] = value instead\n",
      "\n",
      "See the caveats in the documentation: https://pandas.pydata.org/pandas-docs/stable/user_guide/indexing.html#returning-a-view-versus-a-copy\n",
      "  site_1_and_3['above_optimal_ph'] = site_1_and_3['PH_FIELD'] > 7.4\n"
     ]
    }
   ],
   "source": [
    "site_1_and_3['above_optimal_ph'] = site_1_and_3['PH_FIELD'] > 7.4"
   ]
  },
  {
   "cell_type": "code",
   "execution_count": 13,
   "id": "2b5117b0",
   "metadata": {},
   "outputs": [
    {
     "data": {
      "text/html": [
       "<div>\n",
       "<style scoped>\n",
       "    .dataframe tbody tr th:only-of-type {\n",
       "        vertical-align: middle;\n",
       "    }\n",
       "\n",
       "    .dataframe tbody tr th {\n",
       "        vertical-align: top;\n",
       "    }\n",
       "\n",
       "    .dataframe thead th {\n",
       "        text-align: right;\n",
       "    }\n",
       "</style>\n",
       "<table border=\"1\" class=\"dataframe\">\n",
       "  <thead>\n",
       "    <tr style=\"text-align: right;\">\n",
       "      <th></th>\n",
       "      <th>PH_FIELD</th>\n",
       "      <th>above_optimal_ph</th>\n",
       "    </tr>\n",
       "  </thead>\n",
       "  <tbody>\n",
       "    <tr>\n",
       "      <th>1</th>\n",
       "      <td>NaN</td>\n",
       "      <td>False</td>\n",
       "    </tr>\n",
       "    <tr>\n",
       "      <th>2</th>\n",
       "      <td>8.05</td>\n",
       "      <td>True</td>\n",
       "    </tr>\n",
       "    <tr>\n",
       "      <th>3</th>\n",
       "      <td>8.44</td>\n",
       "      <td>True</td>\n",
       "    </tr>\n",
       "    <tr>\n",
       "      <th>5</th>\n",
       "      <td>8.04</td>\n",
       "      <td>True</td>\n",
       "    </tr>\n",
       "    <tr>\n",
       "      <th>6</th>\n",
       "      <td>8.06</td>\n",
       "      <td>True</td>\n",
       "    </tr>\n",
       "    <tr>\n",
       "      <th>...</th>\n",
       "      <td>...</td>\n",
       "      <td>...</td>\n",
       "    </tr>\n",
       "    <tr>\n",
       "      <th>1131</th>\n",
       "      <td>8.68</td>\n",
       "      <td>True</td>\n",
       "    </tr>\n",
       "    <tr>\n",
       "      <th>1132</th>\n",
       "      <td>8.70</td>\n",
       "      <td>True</td>\n",
       "    </tr>\n",
       "    <tr>\n",
       "      <th>1133</th>\n",
       "      <td>8.68</td>\n",
       "      <td>True</td>\n",
       "    </tr>\n",
       "    <tr>\n",
       "      <th>1134</th>\n",
       "      <td>8.65</td>\n",
       "      <td>True</td>\n",
       "    </tr>\n",
       "    <tr>\n",
       "      <th>1135</th>\n",
       "      <td>8.66</td>\n",
       "      <td>True</td>\n",
       "    </tr>\n",
       "  </tbody>\n",
       "</table>\n",
       "<p>683 rows × 2 columns</p>\n",
       "</div>"
      ],
      "text/plain": [
       "      PH_FIELD  above_optimal_ph\n",
       "1          NaN             False\n",
       "2         8.05              True\n",
       "3         8.44              True\n",
       "5         8.04              True\n",
       "6         8.06              True\n",
       "...        ...               ...\n",
       "1131      8.68              True\n",
       "1132      8.70              True\n",
       "1133      8.68              True\n",
       "1134      8.65              True\n",
       "1135      8.66              True\n",
       "\n",
       "[683 rows x 2 columns]"
      ]
     },
     "execution_count": 13,
     "metadata": {},
     "output_type": "execute_result"
    }
   ],
   "source": [
    "site_1_and_3[['PH_FIELD', 'above_optimal_ph']]"
   ]
  },
  {
   "cell_type": "markdown",
   "id": "c8652406",
   "metadata": {},
   "source": [
    "<h2>Challenge Questions</h2>\n",
    "If you're already familiar with basic pandas functionalities, or just want to learn more advanced techniques, you can attempt the following questions. Again, these are just meant to help you improve your data analysis skills and are not graded. "
   ]
  },
  {
   "cell_type": "markdown",
   "id": "07b35a94",
   "metadata": {},
   "source": [
    "<h3>Question 5</h3>\n",
    "Earlier in discussion, we introduced datetime functions. Use a pandas datetime function to filter the data to just include observations from September 2022. Then, calculate the median value of the column COND_FIELD, which measure of the ability of water to pass an electrical current, and is a general metric for water quality.\n",
    "\n",
    "<em>Hint: see <a href = \"https://stackoverflow.com/questions/25873772/how-to-filter-a-dataframe-of-dates-by-a-particular-month-day\">this stackoverflow post</a></em>"
   ]
  },
  {
   "cell_type": "code",
   "execution_count": 14,
   "id": "bd4aa8cd",
   "metadata": {},
   "outputs": [
    {
     "data": {
      "text/plain": [
       "775.0"
      ]
     },
     "execution_count": 14,
     "metadata": {},
     "output_type": "execute_result"
    }
   ],
   "source": [
    "sept_2022 = df[(df['Collection Date/Time'].dt.month == 9) & (df['Collection Date/Time'].dt.year == 2022)]\n",
    "\n",
    "sept_2022['COND_FIELD'].median()"
   ]
  },
  {
   "cell_type": "markdown",
   "id": "0ba373b5",
   "metadata": {},
   "source": [
    "<h3>Question 6</h3>\n",
    "You may have noticed that lots of columns in this dataset have missing values. We won't cover strategies for handling or investigation missing data today, but its often helpful to know how much is actually missing from your dataset.\n",
    "\n",
    "The column ECOLI_MPN estimate the number of e. coli organisms per 100mL of sample water. How many missing values are in this column? \n",
    "\n",
    "<em>Hint: see <a href = \"https://stackoverflow.com/questions/26266362/how-do-i-count-the-nan-values-in-a-column-in-pandas-dataframe\">this stackoverflow post</a></em>\n",
    "    \n",
    "More on working with missing data <a href = \"https://pandas.pydata.org/docs/user_guide/missing_data.html\">here</a>"
   ]
  },
  {
   "cell_type": "code",
   "execution_count": 15,
   "id": "f21d36dc",
   "metadata": {},
   "outputs": [
    {
     "data": {
      "text/plain": [
       "1100"
      ]
     },
     "execution_count": 15,
     "metadata": {},
     "output_type": "execute_result"
    }
   ],
   "source": [
    "df['ECOLI_MPN'].isna().sum()"
   ]
  },
  {
   "cell_type": "markdown",
   "id": "4485e646",
   "metadata": {},
   "source": [
    "Think back to lecture 4 last Thursday about data and its challenges. How could missing data effect your analysis? Write a few short sentences below:"
   ]
  },
  {
   "cell_type": "markdown",
   "id": "95730819",
   "metadata": {},
   "source": []
  },
  {
   "cell_type": "code",
   "execution_count": null,
   "id": "af888768",
   "metadata": {},
   "outputs": [],
   "source": []
  }
 ],
 "metadata": {
  "kernelspec": {
   "display_name": "Python 3 (ipykernel)",
   "language": "python",
   "name": "python3"
  },
  "language_info": {
   "codemirror_mode": {
    "name": "ipython",
    "version": 3
   },
   "file_extension": ".py",
   "mimetype": "text/x-python",
   "name": "python",
   "nbconvert_exporter": "python",
   "pygments_lexer": "ipython3",
   "version": "3.9.13"
  }
 },
 "nbformat": 4,
 "nbformat_minor": 5
}
