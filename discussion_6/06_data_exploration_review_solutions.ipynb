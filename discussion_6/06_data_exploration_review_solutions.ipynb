{
 "cells": [
  {
   "cell_type": "markdown",
   "id": "a89a9010",
   "metadata": {},
   "source": [
    "<h1>SI 305 Discussion 5: Data Exploration Review</h1>\n",
    "\n",
    "This week we will be working with the water and sewage usage data from the University of Michigan Office of Campus Sustainability. You can learn more by viewing the data dictionary <a href = \"https://docs.google.com/document/d/1hPKKJOVNvJ0LhGaTHpSvGD9w1eWBrTzrKMEeJcVJoug/edit?usp=sharing\">here.</a>\n",
    "\n",
    "As a reminder, solutions to previous discussion sections are posted on canvas. If you are working on your data exploration assignment and can't remember how to implement something or the exact syntax of a method, consider revisiting past weeks discussion sections."
   ]
  },
  {
   "cell_type": "code",
   "execution_count": 1,
   "id": "cc8f7765",
   "metadata": {},
   "outputs": [],
   "source": [
    "import pandas as pd\n",
    "import matplotlib.pyplot as plt\n",
    "import warnings\n",
    "warnings.filterwarnings(\"ignore\")"
   ]
  },
  {
   "cell_type": "code",
   "execution_count": 2,
   "id": "3fbaef95",
   "metadata": {},
   "outputs": [],
   "source": [
    "df = pd.read_csv(\"https://docs.google.com/spreadsheets/d/1O6kQZJLnHUA4iLxdh0IU7JYl6qT4EArfIJHimxhKvtI/gviz/tq?tqx=out:csv\")"
   ]
  },
  {
   "cell_type": "code",
   "execution_count": 3,
   "id": "c9d21b7e",
   "metadata": {},
   "outputs": [],
   "source": [
    "df['Billing Date'] = pd.to_datetime(df['Billing Date'])"
   ]
  },
  {
   "cell_type": "code",
   "execution_count": 4,
   "id": "367bf5ab",
   "metadata": {},
   "outputs": [
    {
     "data": {
      "text/html": [
       "<div>\n",
       "<style scoped>\n",
       "    .dataframe tbody tr th:only-of-type {\n",
       "        vertical-align: middle;\n",
       "    }\n",
       "\n",
       "    .dataframe tbody tr th {\n",
       "        vertical-align: top;\n",
       "    }\n",
       "\n",
       "    .dataframe thead th {\n",
       "        text-align: right;\n",
       "    }\n",
       "</style>\n",
       "<table border=\"1\" class=\"dataframe\">\n",
       "  <thead>\n",
       "    <tr style=\"text-align: right;\">\n",
       "      <th></th>\n",
       "      <th>BID</th>\n",
       "      <th>Bname</th>\n",
       "      <th>AKA</th>\n",
       "      <th>Baddr1</th>\n",
       "      <th>City</th>\n",
       "      <th>ZIP</th>\n",
       "      <th>State</th>\n",
       "      <th>Building Grouping(s)</th>\n",
       "      <th>Building Notes</th>\n",
       "      <th>Building Type</th>\n",
       "      <th>Building Gross Sq Ft</th>\n",
       "      <th>Utility Description</th>\n",
       "      <th>Reading Date</th>\n",
       "      <th>Reading Date Year</th>\n",
       "      <th>Reading Date FY</th>\n",
       "      <th>Reading</th>\n",
       "      <th>Billing Date</th>\n",
       "      <th>Billing Date FY</th>\n",
       "      <th>BillingDate Month</th>\n",
       "      <th>Billing Amount</th>\n",
       "    </tr>\n",
       "  </thead>\n",
       "  <tbody>\n",
       "    <tr>\n",
       "      <th>0</th>\n",
       "      <td>5.0</td>\n",
       "      <td>NICHOLS ARBORETUM RESIDENCE COMPLEX</td>\n",
       "      <td>NaN</td>\n",
       "      <td>1827  GEDDES ROAD</td>\n",
       "      <td>ANN ARBOR</td>\n",
       "      <td>48104 1711</td>\n",
       "      <td>MI</td>\n",
       "      <td>NaN</td>\n",
       "      <td>NaN</td>\n",
       "      <td>Office</td>\n",
       "      <td>3384</td>\n",
       "      <td>Water</td>\n",
       "      <td>7/13/2009</td>\n",
       "      <td>2009</td>\n",
       "      <td>2010</td>\n",
       "      <td>7.0</td>\n",
       "      <td>2009-08-01</td>\n",
       "      <td>2010</td>\n",
       "      <td>Aug</td>\n",
       "      <td>$34.67</td>\n",
       "    </tr>\n",
       "    <tr>\n",
       "      <th>1</th>\n",
       "      <td>5.0</td>\n",
       "      <td>NICHOLS ARBORETUM RESIDENCE COMPLEX</td>\n",
       "      <td>NaN</td>\n",
       "      <td>1827  GEDDES ROAD</td>\n",
       "      <td>ANN ARBOR</td>\n",
       "      <td>48104 1711</td>\n",
       "      <td>MI</td>\n",
       "      <td>NaN</td>\n",
       "      <td>NaN</td>\n",
       "      <td>Office</td>\n",
       "      <td>3384</td>\n",
       "      <td>Water</td>\n",
       "      <td>8/18/2009</td>\n",
       "      <td>2009</td>\n",
       "      <td>2010</td>\n",
       "      <td>8.0</td>\n",
       "      <td>2009-09-01</td>\n",
       "      <td>2010</td>\n",
       "      <td>Sep</td>\n",
       "      <td>$40.07</td>\n",
       "    </tr>\n",
       "    <tr>\n",
       "      <th>2</th>\n",
       "      <td>5.0</td>\n",
       "      <td>NICHOLS ARBORETUM RESIDENCE COMPLEX</td>\n",
       "      <td>NaN</td>\n",
       "      <td>1827  GEDDES ROAD</td>\n",
       "      <td>ANN ARBOR</td>\n",
       "      <td>48104 1711</td>\n",
       "      <td>MI</td>\n",
       "      <td>NaN</td>\n",
       "      <td>NaN</td>\n",
       "      <td>Office</td>\n",
       "      <td>3384</td>\n",
       "      <td>Water</td>\n",
       "      <td>9/14/2009</td>\n",
       "      <td>2009</td>\n",
       "      <td>2010</td>\n",
       "      <td>4.0</td>\n",
       "      <td>2009-10-01</td>\n",
       "      <td>2010</td>\n",
       "      <td>Oct</td>\n",
       "      <td>$22.36</td>\n",
       "    </tr>\n",
       "    <tr>\n",
       "      <th>3</th>\n",
       "      <td>5.0</td>\n",
       "      <td>NICHOLS ARBORETUM RESIDENCE COMPLEX</td>\n",
       "      <td>NaN</td>\n",
       "      <td>1827  GEDDES ROAD</td>\n",
       "      <td>ANN ARBOR</td>\n",
       "      <td>48104 1711</td>\n",
       "      <td>MI</td>\n",
       "      <td>NaN</td>\n",
       "      <td>NaN</td>\n",
       "      <td>Office</td>\n",
       "      <td>3384</td>\n",
       "      <td>Water</td>\n",
       "      <td>10/20/2009</td>\n",
       "      <td>2009</td>\n",
       "      <td>2010</td>\n",
       "      <td>0.0</td>\n",
       "      <td>2009-11-01</td>\n",
       "      <td>2010</td>\n",
       "      <td>Nov</td>\n",
       "      <td>$4.67</td>\n",
       "    </tr>\n",
       "    <tr>\n",
       "      <th>4</th>\n",
       "      <td>5.0</td>\n",
       "      <td>NICHOLS ARBORETUM RESIDENCE COMPLEX</td>\n",
       "      <td>NaN</td>\n",
       "      <td>1827  GEDDES ROAD</td>\n",
       "      <td>ANN ARBOR</td>\n",
       "      <td>48104 1711</td>\n",
       "      <td>MI</td>\n",
       "      <td>NaN</td>\n",
       "      <td>NaN</td>\n",
       "      <td>Office</td>\n",
       "      <td>3384</td>\n",
       "      <td>Water</td>\n",
       "      <td>11/19/2009</td>\n",
       "      <td>2009</td>\n",
       "      <td>2010</td>\n",
       "      <td>0.0</td>\n",
       "      <td>2009-12-01</td>\n",
       "      <td>2010</td>\n",
       "      <td>Dec</td>\n",
       "      <td>$4.67</td>\n",
       "    </tr>\n",
       "  </tbody>\n",
       "</table>\n",
       "</div>"
      ],
      "text/plain": [
       "   BID                                Bname  AKA             Baddr1  \\\n",
       "0  5.0  NICHOLS ARBORETUM RESIDENCE COMPLEX  NaN  1827  GEDDES ROAD   \n",
       "1  5.0  NICHOLS ARBORETUM RESIDENCE COMPLEX  NaN  1827  GEDDES ROAD   \n",
       "2  5.0  NICHOLS ARBORETUM RESIDENCE COMPLEX  NaN  1827  GEDDES ROAD   \n",
       "3  5.0  NICHOLS ARBORETUM RESIDENCE COMPLEX  NaN  1827  GEDDES ROAD   \n",
       "4  5.0  NICHOLS ARBORETUM RESIDENCE COMPLEX  NaN  1827  GEDDES ROAD   \n",
       "\n",
       "        City         ZIP State Building Grouping(s) Building Notes  \\\n",
       "0  ANN ARBOR  48104 1711    MI                  NaN            NaN   \n",
       "1  ANN ARBOR  48104 1711    MI                  NaN            NaN   \n",
       "2  ANN ARBOR  48104 1711    MI                  NaN            NaN   \n",
       "3  ANN ARBOR  48104 1711    MI                  NaN            NaN   \n",
       "4  ANN ARBOR  48104 1711    MI                  NaN            NaN   \n",
       "\n",
       "  Building Type  Building Gross Sq Ft Utility Description Reading Date  \\\n",
       "0        Office                  3384               Water    7/13/2009   \n",
       "1        Office                  3384               Water    8/18/2009   \n",
       "2        Office                  3384               Water    9/14/2009   \n",
       "3        Office                  3384               Water   10/20/2009   \n",
       "4        Office                  3384               Water   11/19/2009   \n",
       "\n",
       "   Reading Date Year  Reading Date FY  Reading Billing Date  Billing Date FY  \\\n",
       "0               2009             2010      7.0   2009-08-01             2010   \n",
       "1               2009             2010      8.0   2009-09-01             2010   \n",
       "2               2009             2010      4.0   2009-10-01             2010   \n",
       "3               2009             2010      0.0   2009-11-01             2010   \n",
       "4               2009             2010      0.0   2009-12-01             2010   \n",
       "\n",
       "  BillingDate Month Billing Amount  \n",
       "0               Aug         $34.67  \n",
       "1               Sep         $40.07  \n",
       "2               Oct         $22.36  \n",
       "3               Nov          $4.67  \n",
       "4               Dec          $4.67  "
      ]
     },
     "execution_count": 4,
     "metadata": {},
     "output_type": "execute_result"
    }
   ],
   "source": [
    "df.head()"
   ]
  },
  {
   "cell_type": "markdown",
   "id": "c7cbfc66",
   "metadata": {},
   "source": [
    "<h2>Question 1: Data Exploration & Manipulation</h2>\n",
    "<h3>1.1</h3>\n",
    "What is the average building size? What is the smallest building size in our dataset?"
   ]
  },
  {
   "cell_type": "code",
   "execution_count": 5,
   "id": "dfe0b5d9",
   "metadata": {},
   "outputs": [
    {
     "data": {
      "text/plain": [
       "140711.87683231742"
      ]
     },
     "execution_count": 5,
     "metadata": {},
     "output_type": "execute_result"
    }
   ],
   "source": [
    "df['Building Gross Sq Ft'].mean()"
   ]
  },
  {
   "cell_type": "markdown",
   "id": "bca83c43",
   "metadata": {},
   "source": [
    "<h3>1.2</h3>\n",
    "The 'Building Grouping(s)' column organizes campus buildings by their department / affilitation. Show the median billing amount for every building that's gruping is 'Business'\n",
    "\n",
    "Note that the column 'Billing Amount' is currently a string with non-numeric characters like commas and dollar signs. Remove these before converting billing amount to a float. \n",
    "\n",
    "<em>Hint: if you're having a hard time removing non-numeric characters from the billing column see <a href = \"https://pandas.pydata.org/docs/reference/api/pandas.Series.str.replace.html\">this page</a></em>\n"
   ]
  },
  {
   "cell_type": "code",
   "execution_count": 6,
   "id": "65189d2f",
   "metadata": {},
   "outputs": [],
   "source": [
    "df['Billing Amount Numeric'] = df['Billing Amount'].str.replace(\"$\", \"\").str.replace(\",\", \"\").astype(float)"
   ]
  },
  {
   "cell_type": "code",
   "execution_count": 7,
   "id": "e8cd11ae",
   "metadata": {},
   "outputs": [
    {
     "data": {
      "text/plain": [
       "Bname\n",
       "BUSINESS ADMIN EXECUTIVE DORM    2059.905\n",
       "KRESGE HALL                       836.740\n",
       "ROSS SCHOOL OF BUSINESS          3058.500\n",
       "WYLY SAM HALL                    1338.880\n",
       "Name: Billing Amount Numeric, dtype: float64"
      ]
     },
     "execution_count": 7,
     "metadata": {},
     "output_type": "execute_result"
    }
   ],
   "source": [
    "business_buildings = df[df['Building Grouping(s)'] == 'Business']\n",
    "\n",
    "business_buildings.groupby('Bname')['Billing Amount Numeric'].median()"
   ]
  },
  {
   "cell_type": "markdown",
   "id": "b821dcfb",
   "metadata": {},
   "source": [
    "<h3>1.3</h3>\n",
    "Calculate the average monthly water bill for each year."
   ]
  },
  {
   "cell_type": "code",
   "execution_count": 8,
   "id": "4df05bed",
   "metadata": {},
   "outputs": [
    {
     "data": {
      "text/plain": [
       "Billing Date FY\n",
       "2010    1984.776151\n",
       "2011    2383.883319\n",
       "2012    2666.920433\n",
       "2013    2794.593130\n",
       "2014    2586.387463\n",
       "2015    2575.036894\n",
       "2016    2792.481537\n",
       "2017    3101.040910\n",
       "2018    2941.318423\n",
       "2019    2921.607592\n",
       "2020    2676.167291\n",
       "2021    2379.286266\n",
       "2022    3016.316446\n",
       "2023    3215.795589\n",
       "Name: Billing Amount Numeric, dtype: float64"
      ]
     },
     "execution_count": 8,
     "metadata": {},
     "output_type": "execute_result"
    }
   ],
   "source": [
    "by_month = df.groupby(['Billing Date FY', 'BillingDate Month'])['Billing Amount Numeric'].mean()\n",
    "\n",
    "by_month = by_month.reset_index()\n",
    "by_month.groupby('Billing Date FY')['Billing Amount Numeric'].mean()"
   ]
  },
  {
   "cell_type": "markdown",
   "id": "322beef9",
   "metadata": {},
   "source": [
    "<h2>Question 2: Plotting</h2>\n",
    "\n",
    "Plot the relationship between building size and billing amount. There are multiple billing records for each building — we will just use the most recent ones from 6/1/2023. Note we have already converted the billing date column to a datetime for you.\n",
    "\n",
    "Make sure to add descriptive labels to the axes and to give your plot a title."
   ]
  },
  {
   "cell_type": "code",
   "execution_count": 9,
   "id": "bdbdae1b",
   "metadata": {},
   "outputs": [
    {
     "data": {
      "text/plain": [
       "Text(0.5, 1.0, 'June 2023 Water Bill vs Building Size')"
      ]
     },
     "execution_count": 9,
     "metadata": {},
     "output_type": "execute_result"
    },
    {
     "data": {
      "image/png": "[encoded data removed]",
      "text/plain": [
       "<Figure size 640x480 with 1 Axes>"
      ]
     },
     "metadata": {},
     "output_type": "display_data"
    }
   ],
   "source": [
    "june_2023 = df[df['Billing Date'] == '06-01-2023']\n",
    "\n",
    "plt.scatter(june_2023['Billing Amount Numeric'], june_2023['Building Gross Sq Ft'])\n",
    "\n",
    "plt.xlabel('Bill Amount (Dollars)')\n",
    "plt.ylabel('Building Size (Square Feet)')\n",
    "plt.title(\"June 2023 Water Bill vs Building Size\")"
   ]
  },
  {
   "cell_type": "markdown",
   "id": "c6d1ad63",
   "metadata": {},
   "source": [
    "<h2>Question 3: Data Manipulation & Plotting</h2>\n",
    "Calculate the average billing amount for the buildings that are classified as 'Residence Hall,' 'Classroom,' or 'Library' in the 'Buillding Type' column. Plot the relationship between billing amount and building type. \n",
    "\n",
    "<h3>3.1</h3>\n",
    "Filter the dataframe to the three building types were are interested in. Aggregate the dataframe by month and find the mean billing amount. "
   ]
  },
  {
   "cell_type": "code",
   "execution_count": 10,
   "id": "b7f10799",
   "metadata": {},
   "outputs": [],
   "source": [
    "building_types = df[(df['Building Type'] == 'Residence Hall') | \n",
    "                    (df['Building Type'] == 'Classroom') |\n",
    "                    (df['Building Type'] == 'Library')]\n",
    "\n"
   ]
  },
  {
   "cell_type": "code",
   "execution_count": 11,
   "id": "04f11141",
   "metadata": {},
   "outputs": [],
   "source": [
    "mean_by_btype = building_types.groupby('Building Type')['Billing Amount Numeric'].mean()"
   ]
  },
  {
   "cell_type": "code",
   "execution_count": 12,
   "id": "f598e796",
   "metadata": {},
   "outputs": [
    {
     "data": {
      "text/plain": [
       "Building Type\n",
       "Clinical          10434.587717\n",
       "Laboratory         5948.595596\n",
       "Apartment          5312.413756\n",
       "Residence Hall     4291.322499\n",
       "Stadium            3213.886784\n",
       "Classroom          2791.049212\n",
       "Union              2557.258030\n",
       "Library            2122.669364\n",
       "Office             1417.580795\n",
       "Rec Sports         1281.555519\n",
       "Medical Office     1239.645529\n",
       "Museum             1146.197146\n",
       "Performance         761.256087\n",
       "Support             705.887201\n",
       "Athletics           626.735043\n",
       "Parking             433.433963\n",
       "Residence           104.342230\n",
       "Name: Billing Amount Numeric, dtype: float64"
      ]
     },
     "execution_count": 12,
     "metadata": {},
     "output_type": "execute_result"
    }
   ],
   "source": [
    "df.groupby('Building Type')['Billing Amount Numeric'].mean().sort_values(ascending = False)"
   ]
  },
  {
   "cell_type": "markdown",
   "id": "1da6c956",
   "metadata": {},
   "source": [
    "<h3>3.2</h3>\n",
    "Create a bar plot that shows the mean for each building type. Make sure to add descriptive labels to the axes and to give your plot a title."
   ]
  },
  {
   "cell_type": "code",
   "execution_count": 13,
   "id": "e713d282",
   "metadata": {},
   "outputs": [
    {
     "data": {
      "image/png": "[encoded data removed]",
      "text/plain": [
       "<Figure size 640x480 with 1 Axes>"
      ]
     },
     "metadata": {},
     "output_type": "display_data"
    }
   ],
   "source": [
    "plt.bar(x = mean_by_btype.index, height = mean_by_btype.values, color = ['blue', 'orange', 'yellow'])\n",
    "\n",
    "plt.title(\"Mean Water Bill by Building Type\")\n",
    "plt.xlabel(\"Building Type\")\n",
    "plt.ylabel(\"Mean Water Bill (Dollars)\")\n",
    "\n",
    "plt.show()"
   ]
  },
  {
   "cell_type": "code",
   "execution_count": null,
   "id": "f41a7d01",
   "metadata": {},
   "outputs": [],
   "source": []
  }
 ],
 "metadata": {
  "kernelspec": {
   "display_name": "Python 3 (ipykernel)",
   "language": "python",
   "name": "python3"
  },
  "language_info": {
   "codemirror_mode": {
    "name": "ipython",
    "version": 3
   },
   "file_extension": ".py",
   "mimetype": "text/x-python",
   "name": "python",
   "nbconvert_exporter": "python",
   "pygments_lexer": "ipython3",
   "version": "3.9.13"
  }
 },
 "nbformat": 4,
 "nbformat_minor": 5
}
